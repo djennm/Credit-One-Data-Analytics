{
 "cells": [
  {
   "cell_type": "code",
   "execution_count": 1,
   "metadata": {},
   "outputs": [],
   "source": [
    "from sqlalchemy import create_engine\n",
    "import pymysql\n",
    "import pandas as pd\n",
    "import numpy as np\n",
    "import scipy\n",
    "from math import sqrt\n",
    "import matplotlib.pyplot as plt\n",
    "\n",
    "#estimators\n",
    "from sklearn.ensemble import RandomForestRegressor\n",
    "from sklearn.linear_model import LinearRegression\n",
    "from sklearn.svm import SVR\n",
    "from sklearn import linear_model\n",
    "\n",
    "#model metrics\n",
    "from sklearn.metrics import mean_squared_error\n",
    "from sklearn.metrics import r2_score\n",
    "from sklearn.model_selection import cross_val_score\n",
    "\n",
    "#cross validation\n",
    "from sklearn.model_selection import train_test_split"
   ]
  },
  {
   "cell_type": "code",
   "execution_count": 2,
   "metadata": {},
   "outputs": [
    {
     "data": {
      "text/html": [
       "<div>\n",
       "<style scoped>\n",
       "    .dataframe tbody tr th:only-of-type {\n",
       "        vertical-align: middle;\n",
       "    }\n",
       "\n",
       "    .dataframe tbody tr th {\n",
       "        vertical-align: top;\n",
       "    }\n",
       "\n",
       "    .dataframe thead th {\n",
       "        text-align: right;\n",
       "    }\n",
       "</style>\n",
       "<table border=\"1\" class=\"dataframe\">\n",
       "  <thead>\n",
       "    <tr style=\"text-align: right;\">\n",
       "      <th></th>\n",
       "      <th>ID</th>\n",
       "      <th>LIMIT_BAL</th>\n",
       "      <th>SEX</th>\n",
       "      <th>EDUCATION</th>\n",
       "      <th>MARRIAGE</th>\n",
       "      <th>AGE</th>\n",
       "      <th>PAY_0</th>\n",
       "      <th>PAY_2</th>\n",
       "      <th>PAY_3</th>\n",
       "      <th>PAY_4</th>\n",
       "      <th>...</th>\n",
       "      <th>BILL_AMT4</th>\n",
       "      <th>BILL_AMT5</th>\n",
       "      <th>BILL_AMT6</th>\n",
       "      <th>PAY_AMT1</th>\n",
       "      <th>PAY_AMT2</th>\n",
       "      <th>PAY_AMT3</th>\n",
       "      <th>PAY_AMT4</th>\n",
       "      <th>PAY_AMT5</th>\n",
       "      <th>PAY_AMT6</th>\n",
       "      <th>default payment next month</th>\n",
       "    </tr>\n",
       "  </thead>\n",
       "  <tbody>\n",
       "    <tr>\n",
       "      <th>0</th>\n",
       "      <td>1</td>\n",
       "      <td>20000</td>\n",
       "      <td>female</td>\n",
       "      <td>university</td>\n",
       "      <td>1</td>\n",
       "      <td>24</td>\n",
       "      <td>2</td>\n",
       "      <td>2</td>\n",
       "      <td>-1</td>\n",
       "      <td>-1</td>\n",
       "      <td>...</td>\n",
       "      <td>0</td>\n",
       "      <td>0</td>\n",
       "      <td>0</td>\n",
       "      <td>0</td>\n",
       "      <td>689</td>\n",
       "      <td>0</td>\n",
       "      <td>0</td>\n",
       "      <td>0</td>\n",
       "      <td>0</td>\n",
       "      <td>default</td>\n",
       "    </tr>\n",
       "    <tr>\n",
       "      <th>1</th>\n",
       "      <td>2</td>\n",
       "      <td>120000</td>\n",
       "      <td>female</td>\n",
       "      <td>university</td>\n",
       "      <td>2</td>\n",
       "      <td>26</td>\n",
       "      <td>-1</td>\n",
       "      <td>2</td>\n",
       "      <td>0</td>\n",
       "      <td>0</td>\n",
       "      <td>...</td>\n",
       "      <td>3272</td>\n",
       "      <td>3455</td>\n",
       "      <td>3261</td>\n",
       "      <td>0</td>\n",
       "      <td>1000</td>\n",
       "      <td>1000</td>\n",
       "      <td>1000</td>\n",
       "      <td>0</td>\n",
       "      <td>2000</td>\n",
       "      <td>default</td>\n",
       "    </tr>\n",
       "    <tr>\n",
       "      <th>2</th>\n",
       "      <td>3</td>\n",
       "      <td>90000</td>\n",
       "      <td>female</td>\n",
       "      <td>university</td>\n",
       "      <td>2</td>\n",
       "      <td>34</td>\n",
       "      <td>0</td>\n",
       "      <td>0</td>\n",
       "      <td>0</td>\n",
       "      <td>0</td>\n",
       "      <td>...</td>\n",
       "      <td>14331</td>\n",
       "      <td>14948</td>\n",
       "      <td>15549</td>\n",
       "      <td>1518</td>\n",
       "      <td>1500</td>\n",
       "      <td>1000</td>\n",
       "      <td>1000</td>\n",
       "      <td>1000</td>\n",
       "      <td>5000</td>\n",
       "      <td>not default</td>\n",
       "    </tr>\n",
       "    <tr>\n",
       "      <th>3</th>\n",
       "      <td>4</td>\n",
       "      <td>50000</td>\n",
       "      <td>female</td>\n",
       "      <td>university</td>\n",
       "      <td>1</td>\n",
       "      <td>37</td>\n",
       "      <td>0</td>\n",
       "      <td>0</td>\n",
       "      <td>0</td>\n",
       "      <td>0</td>\n",
       "      <td>...</td>\n",
       "      <td>28314</td>\n",
       "      <td>28959</td>\n",
       "      <td>29547</td>\n",
       "      <td>2000</td>\n",
       "      <td>2019</td>\n",
       "      <td>1200</td>\n",
       "      <td>1100</td>\n",
       "      <td>1069</td>\n",
       "      <td>1000</td>\n",
       "      <td>not default</td>\n",
       "    </tr>\n",
       "    <tr>\n",
       "      <th>4</th>\n",
       "      <td>5</td>\n",
       "      <td>50000</td>\n",
       "      <td>male</td>\n",
       "      <td>university</td>\n",
       "      <td>1</td>\n",
       "      <td>57</td>\n",
       "      <td>-1</td>\n",
       "      <td>0</td>\n",
       "      <td>-1</td>\n",
       "      <td>0</td>\n",
       "      <td>...</td>\n",
       "      <td>20940</td>\n",
       "      <td>19146</td>\n",
       "      <td>19131</td>\n",
       "      <td>2000</td>\n",
       "      <td>36681</td>\n",
       "      <td>10000</td>\n",
       "      <td>9000</td>\n",
       "      <td>689</td>\n",
       "      <td>679</td>\n",
       "      <td>not default</td>\n",
       "    </tr>\n",
       "  </tbody>\n",
       "</table>\n",
       "<p>5 rows × 25 columns</p>\n",
       "</div>"
      ],
      "text/plain": [
       "   ID  LIMIT_BAL     SEX   EDUCATION  MARRIAGE  AGE  PAY_0  PAY_2  PAY_3  \\\n",
       "0   1      20000  female  university         1   24      2      2     -1   \n",
       "1   2     120000  female  university         2   26     -1      2      0   \n",
       "2   3      90000  female  university         2   34      0      0      0   \n",
       "3   4      50000  female  university         1   37      0      0      0   \n",
       "4   5      50000    male  university         1   57     -1      0     -1   \n",
       "\n",
       "   PAY_4  ...  BILL_AMT4  BILL_AMT5  BILL_AMT6  PAY_AMT1  PAY_AMT2  PAY_AMT3  \\\n",
       "0     -1  ...          0          0          0         0       689         0   \n",
       "1      0  ...       3272       3455       3261         0      1000      1000   \n",
       "2      0  ...      14331      14948      15549      1518      1500      1000   \n",
       "3      0  ...      28314      28959      29547      2000      2019      1200   \n",
       "4      0  ...      20940      19146      19131      2000     36681     10000   \n",
       "\n",
       "   PAY_AMT4  PAY_AMT5  PAY_AMT6  default payment next month  \n",
       "0         0         0         0                     default  \n",
       "1      1000         0      2000                     default  \n",
       "2      1000      1000      5000                 not default  \n",
       "3      1100      1069      1000                 not default  \n",
       "4      9000       689       679                 not default  \n",
       "\n",
       "[5 rows x 25 columns]"
      ]
     },
     "execution_count": 2,
     "metadata": {},
     "output_type": "execute_result"
    }
   ],
   "source": [
    "data = pd.read_csv(r'C:\\utda\\CreditOneClean.csv')\n",
    "data.head()"
   ]
  },
  {
   "cell_type": "code",
   "execution_count": 3,
   "metadata": {},
   "outputs": [
    {
     "name": "stdout",
     "output_type": "stream",
     "text": [
      "['1', '20000', 'female', 'university', '1', '24', '2', '2', '-1', '-1', '-2', '-2', '3913', '3102', '689', '0', '0', '0', '0', '689', '0', '0', '0', '0', 'default']\n"
     ]
    }
   ],
   "source": [
    "import csv\n",
    "with open('CreditOneClean.csv') as csv_file:\n",
    "    csv_reader = csv.reader(csv_file)\n",
    "    rows = list(csv_reader)\n",
    "    print(rows[1])"
   ]
  },
  {
   "cell_type": "code",
   "execution_count": 4,
   "metadata": {},
   "outputs": [
    {
     "data": {
      "text/plain": [
       "ID                             int64\n",
       "LIMIT_BAL                      int64\n",
       "SEX                           object\n",
       "EDUCATION                     object\n",
       "MARRIAGE                       int64\n",
       "AGE                            int64\n",
       "PAY_0                          int64\n",
       "PAY_2                          int64\n",
       "PAY_3                          int64\n",
       "PAY_4                          int64\n",
       "PAY_5                          int64\n",
       "PAY_6                          int64\n",
       "BILL_AMT1                      int64\n",
       "BILL_AMT2                      int64\n",
       "BILL_AMT3                      int64\n",
       "BILL_AMT4                      int64\n",
       "BILL_AMT5                      int64\n",
       "BILL_AMT6                      int64\n",
       "PAY_AMT1                       int64\n",
       "PAY_AMT2                       int64\n",
       "PAY_AMT3                       int64\n",
       "PAY_AMT4                       int64\n",
       "PAY_AMT5                       int64\n",
       "PAY_AMT6                       int64\n",
       "default payment next month    object\n",
       "dtype: object"
      ]
     },
     "execution_count": 4,
     "metadata": {},
     "output_type": "execute_result"
    }
   ],
   "source": [
    "data.dtypes"
   ]
  },
  {
   "cell_type": "code",
   "execution_count": 5,
   "metadata": {},
   "outputs": [
    {
     "name": "stdout",
     "output_type": "stream",
     "text": [
      "<class 'pandas.core.frame.DataFrame'>\n",
      "RangeIndex: 30000 entries, 0 to 29999\n",
      "Data columns (total 25 columns):\n",
      " #   Column                      Non-Null Count  Dtype \n",
      "---  ------                      --------------  ----- \n",
      " 0   ID                          30000 non-null  int64 \n",
      " 1   LIMIT_BAL                   30000 non-null  int64 \n",
      " 2   SEX                         30000 non-null  object\n",
      " 3   EDUCATION                   30000 non-null  object\n",
      " 4   MARRIAGE                    30000 non-null  int64 \n",
      " 5   AGE                         30000 non-null  int64 \n",
      " 6   PAY_0                       30000 non-null  int64 \n",
      " 7   PAY_2                       30000 non-null  int64 \n",
      " 8   PAY_3                       30000 non-null  int64 \n",
      " 9   PAY_4                       30000 non-null  int64 \n",
      " 10  PAY_5                       30000 non-null  int64 \n",
      " 11  PAY_6                       30000 non-null  int64 \n",
      " 12  BILL_AMT1                   30000 non-null  int64 \n",
      " 13  BILL_AMT2                   30000 non-null  int64 \n",
      " 14  BILL_AMT3                   30000 non-null  int64 \n",
      " 15  BILL_AMT4                   30000 non-null  int64 \n",
      " 16  BILL_AMT5                   30000 non-null  int64 \n",
      " 17  BILL_AMT6                   30000 non-null  int64 \n",
      " 18  PAY_AMT1                    30000 non-null  int64 \n",
      " 19  PAY_AMT2                    30000 non-null  int64 \n",
      " 20  PAY_AMT3                    30000 non-null  int64 \n",
      " 21  PAY_AMT4                    30000 non-null  int64 \n",
      " 22  PAY_AMT5                    30000 non-null  int64 \n",
      " 23  PAY_AMT6                    30000 non-null  int64 \n",
      " 24  default payment next month  30000 non-null  object\n",
      "dtypes: int64(22), object(3)\n",
      "memory usage: 5.7+ MB\n"
     ]
    }
   ],
   "source": [
    "data.info()"
   ]
  },
  {
   "cell_type": "markdown",
   "metadata": {},
   "source": [
    "# Pre-processing the data"
   ]
  },
  {
   "cell_type": "code",
   "execution_count": 6,
   "metadata": {},
   "outputs": [
    {
     "name": "stdout",
     "output_type": "stream",
     "text": [
      "<class 'pandas.core.frame.DataFrame'>\n",
      "RangeIndex: 30000 entries, 0 to 29999\n",
      "Data columns (total 25 columns):\n",
      " #   Column                      Non-Null Count  Dtype   \n",
      "---  ------                      --------------  -----   \n",
      " 0   ID                          30000 non-null  int64   \n",
      " 1   LIMIT_BAL                   30000 non-null  int64   \n",
      " 2   SEX                         30000 non-null  category\n",
      " 3   EDUCATION                   30000 non-null  category\n",
      " 4   MARRIAGE                    30000 non-null  category\n",
      " 5   AGE                         30000 non-null  int64   \n",
      " 6   PAY_0                       30000 non-null  category\n",
      " 7   PAY_2                       30000 non-null  category\n",
      " 8   PAY_3                       30000 non-null  category\n",
      " 9   PAY_4                       30000 non-null  category\n",
      " 10  PAY_5                       30000 non-null  category\n",
      " 11  PAY_6                       30000 non-null  category\n",
      " 12  BILL_AMT1                   30000 non-null  int64   \n",
      " 13  BILL_AMT2                   30000 non-null  int64   \n",
      " 14  BILL_AMT3                   30000 non-null  int64   \n",
      " 15  BILL_AMT4                   30000 non-null  int64   \n",
      " 16  BILL_AMT5                   30000 non-null  int64   \n",
      " 17  BILL_AMT6                   30000 non-null  int64   \n",
      " 18  PAY_AMT1                    30000 non-null  int64   \n",
      " 19  PAY_AMT2                    30000 non-null  int64   \n",
      " 20  PAY_AMT3                    30000 non-null  int64   \n",
      " 21  PAY_AMT4                    30000 non-null  int64   \n",
      " 22  PAY_AMT5                    30000 non-null  int64   \n",
      " 23  PAY_AMT6                    30000 non-null  int64   \n",
      " 24  default payment next month  30000 non-null  category\n",
      "dtypes: category(10), int64(15)\n",
      "memory usage: 3.7 MB\n"
     ]
    }
   ],
   "source": [
    "data['PAY_0']=data['PAY_0'].astype('category')\n",
    "data['PAY_2']=data['PAY_2'].astype('category')\n",
    "data['PAY_3']=data['PAY_3'].astype('category')\n",
    "data['PAY_4']=data['PAY_4'].astype('category')\n",
    "data['PAY_5']=data['PAY_5'].astype('category')\n",
    "data['PAY_6']=data['PAY_6'].astype('category')\n",
    "data['SEX']=data['SEX'].astype('category')\n",
    "data['MARRIAGE']=data['MARRIAGE'].astype('category')\n",
    "data['EDUCATION']=data['EDUCATION'].astype('category')\n",
    "data['default payment next month']=data['default payment next month'].astype('category')\n",
    "data.info()"
   ]
  },
  {
   "cell_type": "code",
   "execution_count": 7,
   "metadata": {},
   "outputs": [
    {
     "data": {
      "text/html": [
       "<div>\n",
       "<style scoped>\n",
       "    .dataframe tbody tr th:only-of-type {\n",
       "        vertical-align: middle;\n",
       "    }\n",
       "\n",
       "    .dataframe tbody tr th {\n",
       "        vertical-align: top;\n",
       "    }\n",
       "\n",
       "    .dataframe thead th {\n",
       "        text-align: right;\n",
       "    }\n",
       "</style>\n",
       "<table border=\"1\" class=\"dataframe\">\n",
       "  <thead>\n",
       "    <tr style=\"text-align: right;\">\n",
       "      <th></th>\n",
       "      <th>LIMIT_BAL</th>\n",
       "      <th>AGE</th>\n",
       "      <th>BILL_AMT1</th>\n",
       "      <th>BILL_AMT2</th>\n",
       "      <th>BILL_AMT3</th>\n",
       "      <th>BILL_AMT4</th>\n",
       "      <th>BILL_AMT5</th>\n",
       "      <th>BILL_AMT6</th>\n",
       "      <th>PAY_AMT1</th>\n",
       "      <th>PAY_AMT2</th>\n",
       "      <th>PAY_AMT3</th>\n",
       "      <th>PAY_AMT4</th>\n",
       "      <th>PAY_AMT5</th>\n",
       "      <th>PAY_AMT6</th>\n",
       "    </tr>\n",
       "  </thead>\n",
       "  <tbody>\n",
       "    <tr>\n",
       "      <th>0</th>\n",
       "      <td>20000</td>\n",
       "      <td>24</td>\n",
       "      <td>3913</td>\n",
       "      <td>3102</td>\n",
       "      <td>689</td>\n",
       "      <td>0</td>\n",
       "      <td>0</td>\n",
       "      <td>0</td>\n",
       "      <td>0</td>\n",
       "      <td>689</td>\n",
       "      <td>0</td>\n",
       "      <td>0</td>\n",
       "      <td>0</td>\n",
       "      <td>0</td>\n",
       "    </tr>\n",
       "    <tr>\n",
       "      <th>1</th>\n",
       "      <td>120000</td>\n",
       "      <td>26</td>\n",
       "      <td>2682</td>\n",
       "      <td>1725</td>\n",
       "      <td>2682</td>\n",
       "      <td>3272</td>\n",
       "      <td>3455</td>\n",
       "      <td>3261</td>\n",
       "      <td>0</td>\n",
       "      <td>1000</td>\n",
       "      <td>1000</td>\n",
       "      <td>1000</td>\n",
       "      <td>0</td>\n",
       "      <td>2000</td>\n",
       "    </tr>\n",
       "    <tr>\n",
       "      <th>2</th>\n",
       "      <td>90000</td>\n",
       "      <td>34</td>\n",
       "      <td>29239</td>\n",
       "      <td>14027</td>\n",
       "      <td>13559</td>\n",
       "      <td>14331</td>\n",
       "      <td>14948</td>\n",
       "      <td>15549</td>\n",
       "      <td>1518</td>\n",
       "      <td>1500</td>\n",
       "      <td>1000</td>\n",
       "      <td>1000</td>\n",
       "      <td>1000</td>\n",
       "      <td>5000</td>\n",
       "    </tr>\n",
       "    <tr>\n",
       "      <th>3</th>\n",
       "      <td>50000</td>\n",
       "      <td>37</td>\n",
       "      <td>46990</td>\n",
       "      <td>48233</td>\n",
       "      <td>49291</td>\n",
       "      <td>28314</td>\n",
       "      <td>28959</td>\n",
       "      <td>29547</td>\n",
       "      <td>2000</td>\n",
       "      <td>2019</td>\n",
       "      <td>1200</td>\n",
       "      <td>1100</td>\n",
       "      <td>1069</td>\n",
       "      <td>1000</td>\n",
       "    </tr>\n",
       "    <tr>\n",
       "      <th>4</th>\n",
       "      <td>50000</td>\n",
       "      <td>57</td>\n",
       "      <td>8617</td>\n",
       "      <td>5670</td>\n",
       "      <td>35835</td>\n",
       "      <td>20940</td>\n",
       "      <td>19146</td>\n",
       "      <td>19131</td>\n",
       "      <td>2000</td>\n",
       "      <td>36681</td>\n",
       "      <td>10000</td>\n",
       "      <td>9000</td>\n",
       "      <td>689</td>\n",
       "      <td>679</td>\n",
       "    </tr>\n",
       "  </tbody>\n",
       "</table>\n",
       "</div>"
      ],
      "text/plain": [
       "   LIMIT_BAL  AGE  BILL_AMT1  BILL_AMT2  BILL_AMT3  BILL_AMT4  BILL_AMT5  \\\n",
       "0      20000   24       3913       3102        689          0          0   \n",
       "1     120000   26       2682       1725       2682       3272       3455   \n",
       "2      90000   34      29239      14027      13559      14331      14948   \n",
       "3      50000   37      46990      48233      49291      28314      28959   \n",
       "4      50000   57       8617       5670      35835      20940      19146   \n",
       "\n",
       "   BILL_AMT6  PAY_AMT1  PAY_AMT2  PAY_AMT3  PAY_AMT4  PAY_AMT5  PAY_AMT6  \n",
       "0          0         0       689         0         0         0         0  \n",
       "1       3261         0      1000      1000      1000         0      2000  \n",
       "2      15549      1518      1500      1000      1000      1000      5000  \n",
       "3      29547      2000      2019      1200      1100      1069      1000  \n",
       "4      19131      2000     36681     10000      9000       689       679  "
      ]
     },
     "execution_count": 7,
     "metadata": {},
     "output_type": "execute_result"
    }
   ],
   "source": [
    "#loc is label based\n",
    "X=data.loc[:,['LIMIT_BAL','AGE','BILL_AMT1','BILL_AMT2','BILL_AMT3','BILL_AMT4','BILL_AMT5','BILL_AMT6','PAY_AMT1','PAY_AMT2','PAY_AMT3','PAY_AMT4','PAY_AMT5','PAY_AMT6']]\n",
    "X.head()"
   ]
  },
  {
   "cell_type": "code",
   "execution_count": 8,
   "metadata": {},
   "outputs": [
    {
     "name": "stdout",
     "output_type": "stream",
     "text": [
      "[[-1.13672015 -1.24601985 -0.64250107 -0.64739923 -0.66799331 -0.67249727\n",
      "  -0.66305853 -0.65272422 -0.34194162 -0.22708564 -0.29680127 -0.30806256\n",
      "  -0.31413612 -0.29338206]\n",
      " [-0.3659805  -1.02904717 -0.65921875 -0.66674657 -0.63925429 -0.62163594\n",
      "  -0.60622927 -0.59796638 -0.34194162 -0.21358766 -0.24000461 -0.24422965\n",
      "  -0.31413612 -0.18087821]\n",
      " [-0.59720239 -0.16115646 -0.29855966 -0.49389911 -0.48240819 -0.44973025\n",
      "  -0.41718767 -0.39162956 -0.25029158 -0.19188673 -0.24000461 -0.24422965\n",
      "  -0.24868274 -0.01212243]\n",
      " [-0.90549825  0.16430256 -0.05749103 -0.01329269  0.03284648 -0.23237268\n",
      "  -0.18672897 -0.15657889 -0.22119058 -0.16936116 -0.22864528 -0.23784635\n",
      "  -0.24416646 -0.23713013]\n",
      " [-0.90549825  2.33402934 -0.57861809 -0.61131792 -0.16118875 -0.3469972\n",
      "  -0.34813724 -0.33148158 -0.22119058  1.33503416  0.27116536  0.26643369\n",
      "  -0.26903874 -0.255187  ]]\n"
     ]
    }
   ],
   "source": [
    "# first problem: we have to scale down the different magnitudes and units in the feautures\n",
    "# using Standardization for the feautures in X, rescaling\n",
    "# features rescaled will be transformed in such a way that it will have the properties of astandard normal distribution with mean=0 and standard deviation=1\n",
    "# features need to be scaled down when using KNN, linear regression etc. Not necessarily when using decision trees, random forest, or GradientBooster/other boosting techniques\n",
    "from sklearn.preprocessing import StandardScaler\n",
    "scaling = StandardScaler()\n",
    "\n",
    "#transform: fit to data, then transform the specified rows in X, rescaling the specified labels\n",
    "rescaleX = scaling.fit_transform(X)\n",
    "print(rescaleX[0:5,:])"
   ]
  },
  {
   "cell_type": "code",
   "execution_count": 9,
   "metadata": {},
   "outputs": [
    {
     "data": {
      "text/html": [
       "<div>\n",
       "<style scoped>\n",
       "    .dataframe tbody tr th:only-of-type {\n",
       "        vertical-align: middle;\n",
       "    }\n",
       "\n",
       "    .dataframe tbody tr th {\n",
       "        vertical-align: top;\n",
       "    }\n",
       "\n",
       "    .dataframe thead th {\n",
       "        text-align: right;\n",
       "    }\n",
       "</style>\n",
       "<table border=\"1\" class=\"dataframe\">\n",
       "  <thead>\n",
       "    <tr style=\"text-align: right;\">\n",
       "      <th></th>\n",
       "      <th>LIMIT_BAL</th>\n",
       "      <th>AGE</th>\n",
       "      <th>BILL_AMT1</th>\n",
       "      <th>BILL_AMT2</th>\n",
       "      <th>BILL_AMT3</th>\n",
       "      <th>BILL_AMT4</th>\n",
       "      <th>BILL_AMT5</th>\n",
       "      <th>BILL_AMT6</th>\n",
       "      <th>PAY_AMT1</th>\n",
       "      <th>PAY_AMT2</th>\n",
       "      <th>PAY_AMT3</th>\n",
       "      <th>PAY_AMT4</th>\n",
       "      <th>PAY_AMT5</th>\n",
       "      <th>PAY_AMT6</th>\n",
       "    </tr>\n",
       "  </thead>\n",
       "  <tbody>\n",
       "    <tr>\n",
       "      <th>0</th>\n",
       "      <td>-1.136720</td>\n",
       "      <td>-1.246020</td>\n",
       "      <td>-0.642501</td>\n",
       "      <td>-0.647399</td>\n",
       "      <td>-0.667993</td>\n",
       "      <td>-0.672497</td>\n",
       "      <td>-0.663059</td>\n",
       "      <td>-0.652724</td>\n",
       "      <td>-0.341942</td>\n",
       "      <td>-0.227086</td>\n",
       "      <td>-0.296801</td>\n",
       "      <td>-0.308063</td>\n",
       "      <td>-0.314136</td>\n",
       "      <td>-0.293382</td>\n",
       "    </tr>\n",
       "    <tr>\n",
       "      <th>1</th>\n",
       "      <td>-0.365981</td>\n",
       "      <td>-1.029047</td>\n",
       "      <td>-0.659219</td>\n",
       "      <td>-0.666747</td>\n",
       "      <td>-0.639254</td>\n",
       "      <td>-0.621636</td>\n",
       "      <td>-0.606229</td>\n",
       "      <td>-0.597966</td>\n",
       "      <td>-0.341942</td>\n",
       "      <td>-0.213588</td>\n",
       "      <td>-0.240005</td>\n",
       "      <td>-0.244230</td>\n",
       "      <td>-0.314136</td>\n",
       "      <td>-0.180878</td>\n",
       "    </tr>\n",
       "    <tr>\n",
       "      <th>2</th>\n",
       "      <td>-0.597202</td>\n",
       "      <td>-0.161156</td>\n",
       "      <td>-0.298560</td>\n",
       "      <td>-0.493899</td>\n",
       "      <td>-0.482408</td>\n",
       "      <td>-0.449730</td>\n",
       "      <td>-0.417188</td>\n",
       "      <td>-0.391630</td>\n",
       "      <td>-0.250292</td>\n",
       "      <td>-0.191887</td>\n",
       "      <td>-0.240005</td>\n",
       "      <td>-0.244230</td>\n",
       "      <td>-0.248683</td>\n",
       "      <td>-0.012122</td>\n",
       "    </tr>\n",
       "    <tr>\n",
       "      <th>3</th>\n",
       "      <td>-0.905498</td>\n",
       "      <td>0.164303</td>\n",
       "      <td>-0.057491</td>\n",
       "      <td>-0.013293</td>\n",
       "      <td>0.032846</td>\n",
       "      <td>-0.232373</td>\n",
       "      <td>-0.186729</td>\n",
       "      <td>-0.156579</td>\n",
       "      <td>-0.221191</td>\n",
       "      <td>-0.169361</td>\n",
       "      <td>-0.228645</td>\n",
       "      <td>-0.237846</td>\n",
       "      <td>-0.244166</td>\n",
       "      <td>-0.237130</td>\n",
       "    </tr>\n",
       "    <tr>\n",
       "      <th>4</th>\n",
       "      <td>-0.905498</td>\n",
       "      <td>2.334029</td>\n",
       "      <td>-0.578618</td>\n",
       "      <td>-0.611318</td>\n",
       "      <td>-0.161189</td>\n",
       "      <td>-0.346997</td>\n",
       "      <td>-0.348137</td>\n",
       "      <td>-0.331482</td>\n",
       "      <td>-0.221191</td>\n",
       "      <td>1.335034</td>\n",
       "      <td>0.271165</td>\n",
       "      <td>0.266434</td>\n",
       "      <td>-0.269039</td>\n",
       "      <td>-0.255187</td>\n",
       "    </tr>\n",
       "  </tbody>\n",
       "</table>\n",
       "</div>"
      ],
      "text/plain": [
       "   LIMIT_BAL       AGE  BILL_AMT1  BILL_AMT2  BILL_AMT3  BILL_AMT4  BILL_AMT5  \\\n",
       "0  -1.136720 -1.246020  -0.642501  -0.647399  -0.667993  -0.672497  -0.663059   \n",
       "1  -0.365981 -1.029047  -0.659219  -0.666747  -0.639254  -0.621636  -0.606229   \n",
       "2  -0.597202 -0.161156  -0.298560  -0.493899  -0.482408  -0.449730  -0.417188   \n",
       "3  -0.905498  0.164303  -0.057491  -0.013293   0.032846  -0.232373  -0.186729   \n",
       "4  -0.905498  2.334029  -0.578618  -0.611318  -0.161189  -0.346997  -0.348137   \n",
       "\n",
       "   BILL_AMT6  PAY_AMT1  PAY_AMT2  PAY_AMT3  PAY_AMT4  PAY_AMT5  PAY_AMT6  \n",
       "0  -0.652724 -0.341942 -0.227086 -0.296801 -0.308063 -0.314136 -0.293382  \n",
       "1  -0.597966 -0.341942 -0.213588 -0.240005 -0.244230 -0.314136 -0.180878  \n",
       "2  -0.391630 -0.250292 -0.191887 -0.240005 -0.244230 -0.248683 -0.012122  \n",
       "3  -0.156579 -0.221191 -0.169361 -0.228645 -0.237846 -0.244166 -0.237130  \n",
       "4  -0.331482 -0.221191  1.335034  0.271165  0.266434 -0.269039 -0.255187  "
      ]
     },
     "execution_count": 9,
     "metadata": {},
     "output_type": "execute_result"
    }
   ],
   "source": [
    "#write to dataset\n",
    "\n",
    "dataScaled=pd.DataFrame(rescaleX)\n",
    "dataScaled.columns = ['LIMIT_BAL','AGE','BILL_AMT1','BILL_AMT2','BILL_AMT3','BILL_AMT4','BILL_AMT5','BILL_AMT6','PAY_AMT1','PAY_AMT2','PAY_AMT3','PAY_AMT4','PAY_AMT5','PAY_AMT6']\n",
    "dataScaled.head()"
   ]
  },
  {
   "cell_type": "code",
   "execution_count": 10,
   "metadata": {},
   "outputs": [
    {
     "name": "stdout",
     "output_type": "stream",
     "text": [
      "<class 'pandas.core.frame.DataFrame'>\n",
      "RangeIndex: 30000 entries, 0 to 29999\n",
      "Data columns (total 81 columns):\n",
      " #   Column                                  Non-Null Count  Dtype\n",
      "---  ------                                  --------------  -----\n",
      " 0   ID                                      30000 non-null  int64\n",
      " 1   LIMIT_BAL                               30000 non-null  int64\n",
      " 2   AGE                                     30000 non-null  int64\n",
      " 3   BILL_AMT1                               30000 non-null  int64\n",
      " 4   BILL_AMT2                               30000 non-null  int64\n",
      " 5   BILL_AMT3                               30000 non-null  int64\n",
      " 6   BILL_AMT4                               30000 non-null  int64\n",
      " 7   BILL_AMT5                               30000 non-null  int64\n",
      " 8   BILL_AMT6                               30000 non-null  int64\n",
      " 9   PAY_AMT1                                30000 non-null  int64\n",
      " 10  PAY_AMT2                                30000 non-null  int64\n",
      " 11  PAY_AMT3                                30000 non-null  int64\n",
      " 12  PAY_AMT4                                30000 non-null  int64\n",
      " 13  PAY_AMT5                                30000 non-null  int64\n",
      " 14  PAY_AMT6                                30000 non-null  int64\n",
      " 15  SEX_male                                30000 non-null  uint8\n",
      " 16  EDUCATION_high school                   30000 non-null  uint8\n",
      " 17  EDUCATION_other                         30000 non-null  uint8\n",
      " 18  EDUCATION_university                    30000 non-null  uint8\n",
      " 19  MARRIAGE_1                              30000 non-null  uint8\n",
      " 20  MARRIAGE_2                              30000 non-null  uint8\n",
      " 21  MARRIAGE_3                              30000 non-null  uint8\n",
      " 22  PAY_0_-1                                30000 non-null  uint8\n",
      " 23  PAY_0_0                                 30000 non-null  uint8\n",
      " 24  PAY_0_1                                 30000 non-null  uint8\n",
      " 25  PAY_0_2                                 30000 non-null  uint8\n",
      " 26  PAY_0_3                                 30000 non-null  uint8\n",
      " 27  PAY_0_4                                 30000 non-null  uint8\n",
      " 28  PAY_0_5                                 30000 non-null  uint8\n",
      " 29  PAY_0_6                                 30000 non-null  uint8\n",
      " 30  PAY_0_7                                 30000 non-null  uint8\n",
      " 31  PAY_0_8                                 30000 non-null  uint8\n",
      " 32  PAY_2_-1                                30000 non-null  uint8\n",
      " 33  PAY_2_0                                 30000 non-null  uint8\n",
      " 34  PAY_2_1                                 30000 non-null  uint8\n",
      " 35  PAY_2_2                                 30000 non-null  uint8\n",
      " 36  PAY_2_3                                 30000 non-null  uint8\n",
      " 37  PAY_2_4                                 30000 non-null  uint8\n",
      " 38  PAY_2_5                                 30000 non-null  uint8\n",
      " 39  PAY_2_6                                 30000 non-null  uint8\n",
      " 40  PAY_2_7                                 30000 non-null  uint8\n",
      " 41  PAY_2_8                                 30000 non-null  uint8\n",
      " 42  PAY_3_-1                                30000 non-null  uint8\n",
      " 43  PAY_3_0                                 30000 non-null  uint8\n",
      " 44  PAY_3_1                                 30000 non-null  uint8\n",
      " 45  PAY_3_2                                 30000 non-null  uint8\n",
      " 46  PAY_3_3                                 30000 non-null  uint8\n",
      " 47  PAY_3_4                                 30000 non-null  uint8\n",
      " 48  PAY_3_5                                 30000 non-null  uint8\n",
      " 49  PAY_3_6                                 30000 non-null  uint8\n",
      " 50  PAY_3_7                                 30000 non-null  uint8\n",
      " 51  PAY_3_8                                 30000 non-null  uint8\n",
      " 52  PAY_4_-1                                30000 non-null  uint8\n",
      " 53  PAY_4_0                                 30000 non-null  uint8\n",
      " 54  PAY_4_1                                 30000 non-null  uint8\n",
      " 55  PAY_4_2                                 30000 non-null  uint8\n",
      " 56  PAY_4_3                                 30000 non-null  uint8\n",
      " 57  PAY_4_4                                 30000 non-null  uint8\n",
      " 58  PAY_4_5                                 30000 non-null  uint8\n",
      " 59  PAY_4_6                                 30000 non-null  uint8\n",
      " 60  PAY_4_7                                 30000 non-null  uint8\n",
      " 61  PAY_4_8                                 30000 non-null  uint8\n",
      " 62  PAY_5_-1                                30000 non-null  uint8\n",
      " 63  PAY_5_0                                 30000 non-null  uint8\n",
      " 64  PAY_5_2                                 30000 non-null  uint8\n",
      " 65  PAY_5_3                                 30000 non-null  uint8\n",
      " 66  PAY_5_4                                 30000 non-null  uint8\n",
      " 67  PAY_5_5                                 30000 non-null  uint8\n",
      " 68  PAY_5_6                                 30000 non-null  uint8\n",
      " 69  PAY_5_7                                 30000 non-null  uint8\n",
      " 70  PAY_5_8                                 30000 non-null  uint8\n",
      " 71  PAY_6_-1                                30000 non-null  uint8\n",
      " 72  PAY_6_0                                 30000 non-null  uint8\n",
      " 73  PAY_6_2                                 30000 non-null  uint8\n",
      " 74  PAY_6_3                                 30000 non-null  uint8\n",
      " 75  PAY_6_4                                 30000 non-null  uint8\n",
      " 76  PAY_6_5                                 30000 non-null  uint8\n",
      " 77  PAY_6_6                                 30000 non-null  uint8\n",
      " 78  PAY_6_7                                 30000 non-null  uint8\n",
      " 79  PAY_6_8                                 30000 non-null  uint8\n",
      " 80  default payment next month_not default  30000 non-null  uint8\n",
      "dtypes: int64(15), uint8(66)\n",
      "memory usage: 5.3 MB\n"
     ]
    }
   ],
   "source": [
    "#one-hot encoding\n",
    "data = pd.get_dummies(data,drop_first=True)\n",
    "data.info()"
   ]
  },
  {
   "cell_type": "code",
   "execution_count": 11,
   "metadata": {},
   "outputs": [
    {
     "data": {
      "text/html": [
       "<div>\n",
       "<style scoped>\n",
       "    .dataframe tbody tr th:only-of-type {\n",
       "        vertical-align: middle;\n",
       "    }\n",
       "\n",
       "    .dataframe tbody tr th {\n",
       "        vertical-align: top;\n",
       "    }\n",
       "\n",
       "    .dataframe thead th {\n",
       "        text-align: right;\n",
       "    }\n",
       "</style>\n",
       "<table border=\"1\" class=\"dataframe\">\n",
       "  <thead>\n",
       "    <tr style=\"text-align: right;\">\n",
       "      <th></th>\n",
       "      <th>ID</th>\n",
       "      <th>SEX_male</th>\n",
       "      <th>EDUCATION_high school</th>\n",
       "      <th>EDUCATION_other</th>\n",
       "      <th>EDUCATION_university</th>\n",
       "      <th>MARRIAGE_1</th>\n",
       "      <th>MARRIAGE_2</th>\n",
       "      <th>MARRIAGE_3</th>\n",
       "      <th>PAY_0_-1</th>\n",
       "      <th>PAY_0_0</th>\n",
       "      <th>...</th>\n",
       "      <th>PAY_6_-1</th>\n",
       "      <th>PAY_6_0</th>\n",
       "      <th>PAY_6_2</th>\n",
       "      <th>PAY_6_3</th>\n",
       "      <th>PAY_6_4</th>\n",
       "      <th>PAY_6_5</th>\n",
       "      <th>PAY_6_6</th>\n",
       "      <th>PAY_6_7</th>\n",
       "      <th>PAY_6_8</th>\n",
       "      <th>default payment next month_not default</th>\n",
       "    </tr>\n",
       "  </thead>\n",
       "  <tbody>\n",
       "    <tr>\n",
       "      <th>0</th>\n",
       "      <td>1</td>\n",
       "      <td>0</td>\n",
       "      <td>0</td>\n",
       "      <td>0</td>\n",
       "      <td>1</td>\n",
       "      <td>1</td>\n",
       "      <td>0</td>\n",
       "      <td>0</td>\n",
       "      <td>0</td>\n",
       "      <td>0</td>\n",
       "      <td>...</td>\n",
       "      <td>0</td>\n",
       "      <td>0</td>\n",
       "      <td>0</td>\n",
       "      <td>0</td>\n",
       "      <td>0</td>\n",
       "      <td>0</td>\n",
       "      <td>0</td>\n",
       "      <td>0</td>\n",
       "      <td>0</td>\n",
       "      <td>0</td>\n",
       "    </tr>\n",
       "    <tr>\n",
       "      <th>1</th>\n",
       "      <td>2</td>\n",
       "      <td>0</td>\n",
       "      <td>0</td>\n",
       "      <td>0</td>\n",
       "      <td>1</td>\n",
       "      <td>0</td>\n",
       "      <td>1</td>\n",
       "      <td>0</td>\n",
       "      <td>1</td>\n",
       "      <td>0</td>\n",
       "      <td>...</td>\n",
       "      <td>0</td>\n",
       "      <td>0</td>\n",
       "      <td>1</td>\n",
       "      <td>0</td>\n",
       "      <td>0</td>\n",
       "      <td>0</td>\n",
       "      <td>0</td>\n",
       "      <td>0</td>\n",
       "      <td>0</td>\n",
       "      <td>0</td>\n",
       "    </tr>\n",
       "    <tr>\n",
       "      <th>2</th>\n",
       "      <td>3</td>\n",
       "      <td>0</td>\n",
       "      <td>0</td>\n",
       "      <td>0</td>\n",
       "      <td>1</td>\n",
       "      <td>0</td>\n",
       "      <td>1</td>\n",
       "      <td>0</td>\n",
       "      <td>0</td>\n",
       "      <td>1</td>\n",
       "      <td>...</td>\n",
       "      <td>0</td>\n",
       "      <td>1</td>\n",
       "      <td>0</td>\n",
       "      <td>0</td>\n",
       "      <td>0</td>\n",
       "      <td>0</td>\n",
       "      <td>0</td>\n",
       "      <td>0</td>\n",
       "      <td>0</td>\n",
       "      <td>1</td>\n",
       "    </tr>\n",
       "    <tr>\n",
       "      <th>3</th>\n",
       "      <td>4</td>\n",
       "      <td>0</td>\n",
       "      <td>0</td>\n",
       "      <td>0</td>\n",
       "      <td>1</td>\n",
       "      <td>1</td>\n",
       "      <td>0</td>\n",
       "      <td>0</td>\n",
       "      <td>0</td>\n",
       "      <td>1</td>\n",
       "      <td>...</td>\n",
       "      <td>0</td>\n",
       "      <td>1</td>\n",
       "      <td>0</td>\n",
       "      <td>0</td>\n",
       "      <td>0</td>\n",
       "      <td>0</td>\n",
       "      <td>0</td>\n",
       "      <td>0</td>\n",
       "      <td>0</td>\n",
       "      <td>1</td>\n",
       "    </tr>\n",
       "    <tr>\n",
       "      <th>4</th>\n",
       "      <td>5</td>\n",
       "      <td>1</td>\n",
       "      <td>0</td>\n",
       "      <td>0</td>\n",
       "      <td>1</td>\n",
       "      <td>1</td>\n",
       "      <td>0</td>\n",
       "      <td>0</td>\n",
       "      <td>1</td>\n",
       "      <td>0</td>\n",
       "      <td>...</td>\n",
       "      <td>0</td>\n",
       "      <td>1</td>\n",
       "      <td>0</td>\n",
       "      <td>0</td>\n",
       "      <td>0</td>\n",
       "      <td>0</td>\n",
       "      <td>0</td>\n",
       "      <td>0</td>\n",
       "      <td>0</td>\n",
       "      <td>1</td>\n",
       "    </tr>\n",
       "  </tbody>\n",
       "</table>\n",
       "<p>5 rows × 67 columns</p>\n",
       "</div>"
      ],
      "text/plain": [
       "   ID  SEX_male  EDUCATION_high school  EDUCATION_other  EDUCATION_university  \\\n",
       "0   1         0                      0                0                     1   \n",
       "1   2         0                      0                0                     1   \n",
       "2   3         0                      0                0                     1   \n",
       "3   4         0                      0                0                     1   \n",
       "4   5         1                      0                0                     1   \n",
       "\n",
       "   MARRIAGE_1  MARRIAGE_2  MARRIAGE_3  PAY_0_-1  PAY_0_0  ...  PAY_6_-1  \\\n",
       "0           1           0           0         0        0  ...         0   \n",
       "1           0           1           0         1        0  ...         0   \n",
       "2           0           1           0         0        1  ...         0   \n",
       "3           1           0           0         0        1  ...         0   \n",
       "4           1           0           0         1        0  ...         0   \n",
       "\n",
       "   PAY_6_0  PAY_6_2  PAY_6_3  PAY_6_4  PAY_6_5  PAY_6_6  PAY_6_7  PAY_6_8  \\\n",
       "0        0        0        0        0        0        0        0        0   \n",
       "1        0        1        0        0        0        0        0        0   \n",
       "2        1        0        0        0        0        0        0        0   \n",
       "3        1        0        0        0        0        0        0        0   \n",
       "4        1        0        0        0        0        0        0        0   \n",
       "\n",
       "   default payment next month_not default  \n",
       "0                                       0  \n",
       "1                                       0  \n",
       "2                                       1  \n",
       "3                                       1  \n",
       "4                                       1  \n",
       "\n",
       "[5 rows x 67 columns]"
      ]
     },
     "execution_count": 11,
     "metadata": {},
     "output_type": "execute_result"
    }
   ],
   "source": [
    "data2 =data.drop(['LIMIT_BAL','AGE','BILL_AMT1','BILL_AMT2','BILL_AMT3','BILL_AMT4','BILL_AMT5','BILL_AMT6','PAY_AMT1','PAY_AMT2','PAY_AMT3','PAY_AMT4','PAY_AMT5','PAY_AMT6'], axis=1,)\n",
    "data2.head()"
   ]
  },
  {
   "cell_type": "code",
   "execution_count": 12,
   "metadata": {},
   "outputs": [
    {
     "data": {
      "text/html": [
       "<div>\n",
       "<style scoped>\n",
       "    .dataframe tbody tr th:only-of-type {\n",
       "        vertical-align: middle;\n",
       "    }\n",
       "\n",
       "    .dataframe tbody tr th {\n",
       "        vertical-align: top;\n",
       "    }\n",
       "\n",
       "    .dataframe thead th {\n",
       "        text-align: right;\n",
       "    }\n",
       "</style>\n",
       "<table border=\"1\" class=\"dataframe\">\n",
       "  <thead>\n",
       "    <tr style=\"text-align: right;\">\n",
       "      <th></th>\n",
       "      <th>LIMIT_BAL</th>\n",
       "      <th>AGE</th>\n",
       "      <th>BILL_AMT1</th>\n",
       "      <th>BILL_AMT2</th>\n",
       "      <th>BILL_AMT3</th>\n",
       "      <th>BILL_AMT4</th>\n",
       "      <th>BILL_AMT5</th>\n",
       "      <th>BILL_AMT6</th>\n",
       "      <th>PAY_AMT1</th>\n",
       "      <th>PAY_AMT2</th>\n",
       "      <th>...</th>\n",
       "      <th>PAY_6_-1</th>\n",
       "      <th>PAY_6_0</th>\n",
       "      <th>PAY_6_2</th>\n",
       "      <th>PAY_6_3</th>\n",
       "      <th>PAY_6_4</th>\n",
       "      <th>PAY_6_5</th>\n",
       "      <th>PAY_6_6</th>\n",
       "      <th>PAY_6_7</th>\n",
       "      <th>PAY_6_8</th>\n",
       "      <th>default payment next month_not default</th>\n",
       "    </tr>\n",
       "  </thead>\n",
       "  <tbody>\n",
       "    <tr>\n",
       "      <th>0</th>\n",
       "      <td>-1.136720</td>\n",
       "      <td>-1.246020</td>\n",
       "      <td>-0.642501</td>\n",
       "      <td>-0.647399</td>\n",
       "      <td>-0.667993</td>\n",
       "      <td>-0.672497</td>\n",
       "      <td>-0.663059</td>\n",
       "      <td>-0.652724</td>\n",
       "      <td>-0.341942</td>\n",
       "      <td>-0.227086</td>\n",
       "      <td>...</td>\n",
       "      <td>0</td>\n",
       "      <td>0</td>\n",
       "      <td>0</td>\n",
       "      <td>0</td>\n",
       "      <td>0</td>\n",
       "      <td>0</td>\n",
       "      <td>0</td>\n",
       "      <td>0</td>\n",
       "      <td>0</td>\n",
       "      <td>0</td>\n",
       "    </tr>\n",
       "    <tr>\n",
       "      <th>1</th>\n",
       "      <td>-0.365981</td>\n",
       "      <td>-1.029047</td>\n",
       "      <td>-0.659219</td>\n",
       "      <td>-0.666747</td>\n",
       "      <td>-0.639254</td>\n",
       "      <td>-0.621636</td>\n",
       "      <td>-0.606229</td>\n",
       "      <td>-0.597966</td>\n",
       "      <td>-0.341942</td>\n",
       "      <td>-0.213588</td>\n",
       "      <td>...</td>\n",
       "      <td>0</td>\n",
       "      <td>0</td>\n",
       "      <td>1</td>\n",
       "      <td>0</td>\n",
       "      <td>0</td>\n",
       "      <td>0</td>\n",
       "      <td>0</td>\n",
       "      <td>0</td>\n",
       "      <td>0</td>\n",
       "      <td>0</td>\n",
       "    </tr>\n",
       "    <tr>\n",
       "      <th>2</th>\n",
       "      <td>-0.597202</td>\n",
       "      <td>-0.161156</td>\n",
       "      <td>-0.298560</td>\n",
       "      <td>-0.493899</td>\n",
       "      <td>-0.482408</td>\n",
       "      <td>-0.449730</td>\n",
       "      <td>-0.417188</td>\n",
       "      <td>-0.391630</td>\n",
       "      <td>-0.250292</td>\n",
       "      <td>-0.191887</td>\n",
       "      <td>...</td>\n",
       "      <td>0</td>\n",
       "      <td>1</td>\n",
       "      <td>0</td>\n",
       "      <td>0</td>\n",
       "      <td>0</td>\n",
       "      <td>0</td>\n",
       "      <td>0</td>\n",
       "      <td>0</td>\n",
       "      <td>0</td>\n",
       "      <td>1</td>\n",
       "    </tr>\n",
       "    <tr>\n",
       "      <th>3</th>\n",
       "      <td>-0.905498</td>\n",
       "      <td>0.164303</td>\n",
       "      <td>-0.057491</td>\n",
       "      <td>-0.013293</td>\n",
       "      <td>0.032846</td>\n",
       "      <td>-0.232373</td>\n",
       "      <td>-0.186729</td>\n",
       "      <td>-0.156579</td>\n",
       "      <td>-0.221191</td>\n",
       "      <td>-0.169361</td>\n",
       "      <td>...</td>\n",
       "      <td>0</td>\n",
       "      <td>1</td>\n",
       "      <td>0</td>\n",
       "      <td>0</td>\n",
       "      <td>0</td>\n",
       "      <td>0</td>\n",
       "      <td>0</td>\n",
       "      <td>0</td>\n",
       "      <td>0</td>\n",
       "      <td>1</td>\n",
       "    </tr>\n",
       "    <tr>\n",
       "      <th>4</th>\n",
       "      <td>-0.905498</td>\n",
       "      <td>2.334029</td>\n",
       "      <td>-0.578618</td>\n",
       "      <td>-0.611318</td>\n",
       "      <td>-0.161189</td>\n",
       "      <td>-0.346997</td>\n",
       "      <td>-0.348137</td>\n",
       "      <td>-0.331482</td>\n",
       "      <td>-0.221191</td>\n",
       "      <td>1.335034</td>\n",
       "      <td>...</td>\n",
       "      <td>0</td>\n",
       "      <td>1</td>\n",
       "      <td>0</td>\n",
       "      <td>0</td>\n",
       "      <td>0</td>\n",
       "      <td>0</td>\n",
       "      <td>0</td>\n",
       "      <td>0</td>\n",
       "      <td>0</td>\n",
       "      <td>1</td>\n",
       "    </tr>\n",
       "  </tbody>\n",
       "</table>\n",
       "<p>5 rows × 81 columns</p>\n",
       "</div>"
      ],
      "text/plain": [
       "   LIMIT_BAL       AGE  BILL_AMT1  BILL_AMT2  BILL_AMT3  BILL_AMT4  BILL_AMT5  \\\n",
       "0  -1.136720 -1.246020  -0.642501  -0.647399  -0.667993  -0.672497  -0.663059   \n",
       "1  -0.365981 -1.029047  -0.659219  -0.666747  -0.639254  -0.621636  -0.606229   \n",
       "2  -0.597202 -0.161156  -0.298560  -0.493899  -0.482408  -0.449730  -0.417188   \n",
       "3  -0.905498  0.164303  -0.057491  -0.013293   0.032846  -0.232373  -0.186729   \n",
       "4  -0.905498  2.334029  -0.578618  -0.611318  -0.161189  -0.346997  -0.348137   \n",
       "\n",
       "   BILL_AMT6  PAY_AMT1  PAY_AMT2  ...  PAY_6_-1  PAY_6_0  PAY_6_2  PAY_6_3  \\\n",
       "0  -0.652724 -0.341942 -0.227086  ...         0        0        0        0   \n",
       "1  -0.597966 -0.341942 -0.213588  ...         0        0        1        0   \n",
       "2  -0.391630 -0.250292 -0.191887  ...         0        1        0        0   \n",
       "3  -0.156579 -0.221191 -0.169361  ...         0        1        0        0   \n",
       "4  -0.331482 -0.221191  1.335034  ...         0        1        0        0   \n",
       "\n",
       "   PAY_6_4  PAY_6_5  PAY_6_6  PAY_6_7  PAY_6_8  \\\n",
       "0        0        0        0        0        0   \n",
       "1        0        0        0        0        0   \n",
       "2        0        0        0        0        0   \n",
       "3        0        0        0        0        0   \n",
       "4        0        0        0        0        0   \n",
       "\n",
       "   default payment next month_not default  \n",
       "0                                       0  \n",
       "1                                       0  \n",
       "2                                       1  \n",
       "3                                       1  \n",
       "4                                       1  \n",
       "\n",
       "[5 rows x 81 columns]"
      ]
     },
     "execution_count": 12,
     "metadata": {},
     "output_type": "execute_result"
    }
   ],
   "source": [
    "credit = pd.concat([dataScaled, data2], axis=1)\n",
    "credit.head()"
   ]
  },
  {
   "cell_type": "code",
   "execution_count": 13,
   "metadata": {},
   "outputs": [],
   "source": [
    "Y = credit['default payment next month_not default'].values\n",
    "X1 = credit.drop('default payment next month_not default', axis=1).values"
   ]
  },
  {
   "cell_type": "code",
   "execution_count": 14,
   "metadata": {},
   "outputs": [
    {
     "name": "stdout",
     "output_type": "stream",
     "text": [
      "[0 0 1 ... 0 0 0]\n"
     ]
    }
   ],
   "source": [
    "print(Y)"
   ]
  },
  {
   "cell_type": "code",
   "execution_count": 15,
   "metadata": {},
   "outputs": [
    {
     "name": "stdout",
     "output_type": "stream",
     "text": [
      "[0.02043894 0.03529045 0.0280483 ]\n"
     ]
    }
   ],
   "source": [
    "model = LinearRegression()\n",
    "print(cross_val_score(model, X, Y, cv=3))"
   ]
  },
  {
   "cell_type": "code",
   "execution_count": 16,
   "metadata": {},
   "outputs": [
    {
     "name": "stdout",
     "output_type": "stream",
     "text": [
      "Num Features: 7\n",
      "Selected Features: [False  True  True  True False False False False  True  True  True  True\n",
      " False False]\n",
      "Feature Ranking: [4 1 1 1 6 8 3 7 1 1 1 1 2 5]\n"
     ]
    }
   ],
   "source": [
    "from sklearn.feature_selection import RFE\n",
    "from sklearn.linear_model import LogisticRegression\n",
    "model2 = LogisticRegression(solver='lbfgs', max_iter=1000)\n",
    "rfe = RFE(model2)\n",
    "rfeModel = rfe.fit(X, Y)\n",
    "print(\"Num Features: %d\" % rfeModel.n_features_)\n",
    "print(\"Selected Features: %s\" % rfeModel.support_)\n",
    "print(\"Feature Ranking: %s\" % rfeModel.ranking_)"
   ]
  },
  {
   "cell_type": "code",
   "execution_count": 17,
   "metadata": {},
   "outputs": [],
   "source": [
    "algosClass = []\n",
    "algosClass.append(('Random Forest Regressor',RandomForestRegressor()))\n",
    "algosClass.append(('Linear Regression',LinearRegression()))\n",
    "algosClass.append(('Support Vector Regression',SVR()))"
   ]
  },
  {
   "cell_type": "code",
   "execution_count": 18,
   "metadata": {},
   "outputs": [],
   "source": [
    "#regression\n",
    "results = []\n",
    "names = []\n",
    "for name, model in algosClass:\n",
    "    result = cross_val_score(model, X,Y, cv=3, scoring='r2')\n",
    "    names.append(name)\n",
    "    results.append(result)"
   ]
  },
  {
   "cell_type": "code",
   "execution_count": 19,
   "metadata": {},
   "outputs": [
    {
     "name": "stdout",
     "output_type": "stream",
     "text": [
      "Random Forest Regressor 0.08287356455049362\n",
      "Linear Regression 0.027925895044171572\n",
      "Support Vector Regression -0.0851223288801215\n"
     ]
    }
   ],
   "source": [
    "for i in range(len(names)):\n",
    "    print(names[i],results[i].mean())"
   ]
  },
  {
   "cell_type": "code",
   "execution_count": 20,
   "metadata": {},
   "outputs": [
    {
     "data": {
      "image/png": "[encoded data removed]",
      "text/plain": [
       "<Figure size 432x288 with 1 Axes>"
      ]
     },
     "metadata": {
      "needs_background": "light"
     },
     "output_type": "display_data"
    }
   ],
   "source": [
    "# boxplot algorithm comparison\n",
    "fig = plt.figure()\n",
    "fig.suptitle('Algorithm Comparison')\n",
    "ax = fig.add_subplot(111)\n",
    "plt.boxplot(results)\n",
    "ax.set_xticklabels(names)\n",
    "plt.show()"
   ]
  },
  {
   "cell_type": "code",
   "execution_count": 21,
   "metadata": {},
   "outputs": [
    {
     "name": "stdout",
     "output_type": "stream",
     "text": [
      "<class 'pandas.core.frame.DataFrame'>\n",
      "RangeIndex: 30000 entries, 0 to 29999\n",
      "Data columns (total 81 columns):\n",
      " #   Column                                  Non-Null Count  Dtype  \n",
      "---  ------                                  --------------  -----  \n",
      " 0   LIMIT_BAL                               30000 non-null  float64\n",
      " 1   AGE                                     30000 non-null  float64\n",
      " 2   BILL_AMT1                               30000 non-null  float64\n",
      " 3   BILL_AMT2                               30000 non-null  float64\n",
      " 4   BILL_AMT3                               30000 non-null  float64\n",
      " 5   BILL_AMT4                               30000 non-null  float64\n",
      " 6   BILL_AMT5                               30000 non-null  float64\n",
      " 7   BILL_AMT6                               30000 non-null  float64\n",
      " 8   PAY_AMT1                                30000 non-null  float64\n",
      " 9   PAY_AMT2                                30000 non-null  float64\n",
      " 10  PAY_AMT3                                30000 non-null  float64\n",
      " 11  PAY_AMT4                                30000 non-null  float64\n",
      " 12  PAY_AMT5                                30000 non-null  float64\n",
      " 13  PAY_AMT6                                30000 non-null  float64\n",
      " 14  ID                                      30000 non-null  int64  \n",
      " 15  SEX_male                                30000 non-null  uint8  \n",
      " 16  EDUCATION_high school                   30000 non-null  uint8  \n",
      " 17  EDUCATION_other                         30000 non-null  uint8  \n",
      " 18  EDUCATION_university                    30000 non-null  uint8  \n",
      " 19  MARRIAGE_1                              30000 non-null  uint8  \n",
      " 20  MARRIAGE_2                              30000 non-null  uint8  \n",
      " 21  MARRIAGE_3                              30000 non-null  uint8  \n",
      " 22  PAY_0_-1                                30000 non-null  uint8  \n",
      " 23  PAY_0_0                                 30000 non-null  uint8  \n",
      " 24  PAY_0_1                                 30000 non-null  uint8  \n",
      " 25  PAY_0_2                                 30000 non-null  uint8  \n",
      " 26  PAY_0_3                                 30000 non-null  uint8  \n",
      " 27  PAY_0_4                                 30000 non-null  uint8  \n",
      " 28  PAY_0_5                                 30000 non-null  uint8  \n",
      " 29  PAY_0_6                                 30000 non-null  uint8  \n",
      " 30  PAY_0_7                                 30000 non-null  uint8  \n",
      " 31  PAY_0_8                                 30000 non-null  uint8  \n",
      " 32  PAY_2_-1                                30000 non-null  uint8  \n",
      " 33  PAY_2_0                                 30000 non-null  uint8  \n",
      " 34  PAY_2_1                                 30000 non-null  uint8  \n",
      " 35  PAY_2_2                                 30000 non-null  uint8  \n",
      " 36  PAY_2_3                                 30000 non-null  uint8  \n",
      " 37  PAY_2_4                                 30000 non-null  uint8  \n",
      " 38  PAY_2_5                                 30000 non-null  uint8  \n",
      " 39  PAY_2_6                                 30000 non-null  uint8  \n",
      " 40  PAY_2_7                                 30000 non-null  uint8  \n",
      " 41  PAY_2_8                                 30000 non-null  uint8  \n",
      " 42  PAY_3_-1                                30000 non-null  uint8  \n",
      " 43  PAY_3_0                                 30000 non-null  uint8  \n",
      " 44  PAY_3_1                                 30000 non-null  uint8  \n",
      " 45  PAY_3_2                                 30000 non-null  uint8  \n",
      " 46  PAY_3_3                                 30000 non-null  uint8  \n",
      " 47  PAY_3_4                                 30000 non-null  uint8  \n",
      " 48  PAY_3_5                                 30000 non-null  uint8  \n",
      " 49  PAY_3_6                                 30000 non-null  uint8  \n",
      " 50  PAY_3_7                                 30000 non-null  uint8  \n",
      " 51  PAY_3_8                                 30000 non-null  uint8  \n",
      " 52  PAY_4_-1                                30000 non-null  uint8  \n",
      " 53  PAY_4_0                                 30000 non-null  uint8  \n",
      " 54  PAY_4_1                                 30000 non-null  uint8  \n",
      " 55  PAY_4_2                                 30000 non-null  uint8  \n",
      " 56  PAY_4_3                                 30000 non-null  uint8  \n",
      " 57  PAY_4_4                                 30000 non-null  uint8  \n",
      " 58  PAY_4_5                                 30000 non-null  uint8  \n",
      " 59  PAY_4_6                                 30000 non-null  uint8  \n",
      " 60  PAY_4_7                                 30000 non-null  uint8  \n",
      " 61  PAY_4_8                                 30000 non-null  uint8  \n",
      " 62  PAY_5_-1                                30000 non-null  uint8  \n",
      " 63  PAY_5_0                                 30000 non-null  uint8  \n",
      " 64  PAY_5_2                                 30000 non-null  uint8  \n",
      " 65  PAY_5_3                                 30000 non-null  uint8  \n",
      " 66  PAY_5_4                                 30000 non-null  uint8  \n",
      " 67  PAY_5_5                                 30000 non-null  uint8  \n",
      " 68  PAY_5_6                                 30000 non-null  uint8  \n",
      " 69  PAY_5_7                                 30000 non-null  uint8  \n",
      " 70  PAY_5_8                                 30000 non-null  uint8  \n",
      " 71  PAY_6_-1                                30000 non-null  uint8  \n",
      " 72  PAY_6_0                                 30000 non-null  uint8  \n",
      " 73  PAY_6_2                                 30000 non-null  uint8  \n",
      " 74  PAY_6_3                                 30000 non-null  uint8  \n",
      " 75  PAY_6_4                                 30000 non-null  uint8  \n",
      " 76  PAY_6_5                                 30000 non-null  uint8  \n",
      " 77  PAY_6_6                                 30000 non-null  uint8  \n",
      " 78  PAY_6_7                                 30000 non-null  uint8  \n",
      " 79  PAY_6_8                                 30000 non-null  uint8  \n",
      " 80  default payment next month_not default  30000 non-null  uint8  \n",
      "dtypes: float64(14), int64(1), uint8(66)\n",
      "memory usage: 5.3 MB\n"
     ]
    }
   ],
   "source": [
    "credit.info()"
   ]
  },
  {
   "cell_type": "markdown",
   "metadata": {},
   "source": [
    "# Model"
   ]
  },
  {
   "cell_type": "code",
   "execution_count": 22,
   "metadata": {},
   "outputs": [
    {
     "data": {
      "text/html": [
       "<div>\n",
       "<style scoped>\n",
       "    .dataframe tbody tr th:only-of-type {\n",
       "        vertical-align: middle;\n",
       "    }\n",
       "\n",
       "    .dataframe tbody tr th {\n",
       "        vertical-align: top;\n",
       "    }\n",
       "\n",
       "    .dataframe thead th {\n",
       "        text-align: right;\n",
       "    }\n",
       "</style>\n",
       "<table border=\"1\" class=\"dataframe\">\n",
       "  <thead>\n",
       "    <tr style=\"text-align: right;\">\n",
       "      <th></th>\n",
       "      <th>LIMIT_BAL</th>\n",
       "      <th>EDUCATION_high school</th>\n",
       "      <th>EDUCATION_other</th>\n",
       "      <th>EDUCATION_university</th>\n",
       "      <th>MARRIAGE_1</th>\n",
       "      <th>MARRIAGE_2</th>\n",
       "      <th>MARRIAGE_3</th>\n",
       "      <th>PAY_0_-1</th>\n",
       "      <th>PAY_0_0</th>\n",
       "      <th>PAY_0_1</th>\n",
       "      <th>...</th>\n",
       "      <th>PAY_4_6</th>\n",
       "      <th>PAY_4_8</th>\n",
       "      <th>PAY_5_2</th>\n",
       "      <th>PAY_5_4</th>\n",
       "      <th>PAY_5_7</th>\n",
       "      <th>PAY_6_-1</th>\n",
       "      <th>PAY_6_0</th>\n",
       "      <th>PAY_6_3</th>\n",
       "      <th>PAY_6_6</th>\n",
       "      <th>PAY_6_8</th>\n",
       "    </tr>\n",
       "  </thead>\n",
       "  <tbody>\n",
       "    <tr>\n",
       "      <th>0</th>\n",
       "      <td>-1.136720</td>\n",
       "      <td>0</td>\n",
       "      <td>0</td>\n",
       "      <td>1</td>\n",
       "      <td>1</td>\n",
       "      <td>0</td>\n",
       "      <td>0</td>\n",
       "      <td>0</td>\n",
       "      <td>0</td>\n",
       "      <td>0</td>\n",
       "      <td>...</td>\n",
       "      <td>0</td>\n",
       "      <td>0</td>\n",
       "      <td>0</td>\n",
       "      <td>0</td>\n",
       "      <td>0</td>\n",
       "      <td>0</td>\n",
       "      <td>0</td>\n",
       "      <td>0</td>\n",
       "      <td>0</td>\n",
       "      <td>0</td>\n",
       "    </tr>\n",
       "    <tr>\n",
       "      <th>1</th>\n",
       "      <td>-0.365981</td>\n",
       "      <td>0</td>\n",
       "      <td>0</td>\n",
       "      <td>1</td>\n",
       "      <td>0</td>\n",
       "      <td>1</td>\n",
       "      <td>0</td>\n",
       "      <td>1</td>\n",
       "      <td>0</td>\n",
       "      <td>0</td>\n",
       "      <td>...</td>\n",
       "      <td>0</td>\n",
       "      <td>0</td>\n",
       "      <td>0</td>\n",
       "      <td>0</td>\n",
       "      <td>0</td>\n",
       "      <td>0</td>\n",
       "      <td>0</td>\n",
       "      <td>0</td>\n",
       "      <td>0</td>\n",
       "      <td>0</td>\n",
       "    </tr>\n",
       "    <tr>\n",
       "      <th>2</th>\n",
       "      <td>-0.597202</td>\n",
       "      <td>0</td>\n",
       "      <td>0</td>\n",
       "      <td>1</td>\n",
       "      <td>0</td>\n",
       "      <td>1</td>\n",
       "      <td>0</td>\n",
       "      <td>0</td>\n",
       "      <td>1</td>\n",
       "      <td>0</td>\n",
       "      <td>...</td>\n",
       "      <td>0</td>\n",
       "      <td>0</td>\n",
       "      <td>0</td>\n",
       "      <td>0</td>\n",
       "      <td>0</td>\n",
       "      <td>0</td>\n",
       "      <td>1</td>\n",
       "      <td>0</td>\n",
       "      <td>0</td>\n",
       "      <td>0</td>\n",
       "    </tr>\n",
       "    <tr>\n",
       "      <th>3</th>\n",
       "      <td>-0.905498</td>\n",
       "      <td>0</td>\n",
       "      <td>0</td>\n",
       "      <td>1</td>\n",
       "      <td>1</td>\n",
       "      <td>0</td>\n",
       "      <td>0</td>\n",
       "      <td>0</td>\n",
       "      <td>1</td>\n",
       "      <td>0</td>\n",
       "      <td>...</td>\n",
       "      <td>0</td>\n",
       "      <td>0</td>\n",
       "      <td>0</td>\n",
       "      <td>0</td>\n",
       "      <td>0</td>\n",
       "      <td>0</td>\n",
       "      <td>1</td>\n",
       "      <td>0</td>\n",
       "      <td>0</td>\n",
       "      <td>0</td>\n",
       "    </tr>\n",
       "    <tr>\n",
       "      <th>4</th>\n",
       "      <td>-0.905498</td>\n",
       "      <td>0</td>\n",
       "      <td>0</td>\n",
       "      <td>1</td>\n",
       "      <td>1</td>\n",
       "      <td>0</td>\n",
       "      <td>0</td>\n",
       "      <td>1</td>\n",
       "      <td>0</td>\n",
       "      <td>0</td>\n",
       "      <td>...</td>\n",
       "      <td>0</td>\n",
       "      <td>0</td>\n",
       "      <td>0</td>\n",
       "      <td>0</td>\n",
       "      <td>0</td>\n",
       "      <td>0</td>\n",
       "      <td>1</td>\n",
       "      <td>0</td>\n",
       "      <td>0</td>\n",
       "      <td>0</td>\n",
       "    </tr>\n",
       "  </tbody>\n",
       "</table>\n",
       "<p>5 rows × 42 columns</p>\n",
       "</div>"
      ],
      "text/plain": [
       "   LIMIT_BAL  EDUCATION_high school  EDUCATION_other  EDUCATION_university  \\\n",
       "0  -1.136720                      0                0                     1   \n",
       "1  -0.365981                      0                0                     1   \n",
       "2  -0.597202                      0                0                     1   \n",
       "3  -0.905498                      0                0                     1   \n",
       "4  -0.905498                      0                0                     1   \n",
       "\n",
       "   MARRIAGE_1  MARRIAGE_2  MARRIAGE_3  PAY_0_-1  PAY_0_0  PAY_0_1  ...  \\\n",
       "0           1           0           0         0        0        0  ...   \n",
       "1           0           1           0         1        0        0  ...   \n",
       "2           0           1           0         0        1        0  ...   \n",
       "3           1           0           0         0        1        0  ...   \n",
       "4           1           0           0         1        0        0  ...   \n",
       "\n",
       "   PAY_4_6  PAY_4_8  PAY_5_2  PAY_5_4  PAY_5_7  PAY_6_-1  PAY_6_0  PAY_6_3  \\\n",
       "0        0        0        0        0        0         0        0        0   \n",
       "1        0        0        0        0        0         0        0        0   \n",
       "2        0        0        0        0        0         0        1        0   \n",
       "3        0        0        0        0        0         0        1        0   \n",
       "4        0        0        0        0        0         0        1        0   \n",
       "\n",
       "   PAY_6_6  PAY_6_8  \n",
       "0        0        0  \n",
       "1        0        0  \n",
       "2        0        0  \n",
       "3        0        0  \n",
       "4        0        0  \n",
       "\n",
       "[5 rows x 42 columns]"
      ]
     },
     "execution_count": 22,
     "metadata": {},
     "output_type": "execute_result"
    }
   ],
   "source": [
    "data3=credit.iloc[:,[0,16,17,18,19,20,21,22,23,24,25,26,27,28,29,30,31,32,34,37,38,39,40,45,46,48,49,50,54,55,57,58,59,61,64,66,69,71,72,74,77,79]]\n",
    "data3.head()"
   ]
  },
  {
   "cell_type": "code",
   "execution_count": 23,
   "metadata": {},
   "outputs": [
    {
     "name": "stdout",
     "output_type": "stream",
     "text": [
      "<class 'pandas.core.frame.DataFrame'>\n",
      "RangeIndex: 30000 entries, 0 to 29999\n",
      "Data columns (total 42 columns):\n",
      " #   Column                 Non-Null Count  Dtype  \n",
      "---  ------                 --------------  -----  \n",
      " 0   LIMIT_BAL              30000 non-null  float64\n",
      " 1   EDUCATION_high school  30000 non-null  uint8  \n",
      " 2   EDUCATION_other        30000 non-null  uint8  \n",
      " 3   EDUCATION_university   30000 non-null  uint8  \n",
      " 4   MARRIAGE_1             30000 non-null  uint8  \n",
      " 5   MARRIAGE_2             30000 non-null  uint8  \n",
      " 6   MARRIAGE_3             30000 non-null  uint8  \n",
      " 7   PAY_0_-1               30000 non-null  uint8  \n",
      " 8   PAY_0_0                30000 non-null  uint8  \n",
      " 9   PAY_0_1                30000 non-null  uint8  \n",
      " 10  PAY_0_2                30000 non-null  uint8  \n",
      " 11  PAY_0_3                30000 non-null  uint8  \n",
      " 12  PAY_0_4                30000 non-null  uint8  \n",
      " 13  PAY_0_5                30000 non-null  uint8  \n",
      " 14  PAY_0_6                30000 non-null  uint8  \n",
      " 15  PAY_0_7                30000 non-null  uint8  \n",
      " 16  PAY_0_8                30000 non-null  uint8  \n",
      " 17  PAY_2_-1               30000 non-null  uint8  \n",
      " 18  PAY_2_1                30000 non-null  uint8  \n",
      " 19  PAY_2_4                30000 non-null  uint8  \n",
      " 20  PAY_2_5                30000 non-null  uint8  \n",
      " 21  PAY_2_6                30000 non-null  uint8  \n",
      " 22  PAY_2_7                30000 non-null  uint8  \n",
      " 23  PAY_3_2                30000 non-null  uint8  \n",
      " 24  PAY_3_3                30000 non-null  uint8  \n",
      " 25  PAY_3_5                30000 non-null  uint8  \n",
      " 26  PAY_3_6                30000 non-null  uint8  \n",
      " 27  PAY_3_7                30000 non-null  uint8  \n",
      " 28  PAY_4_1                30000 non-null  uint8  \n",
      " 29  PAY_4_2                30000 non-null  uint8  \n",
      " 30  PAY_4_4                30000 non-null  uint8  \n",
      " 31  PAY_4_5                30000 non-null  uint8  \n",
      " 32  PAY_4_6                30000 non-null  uint8  \n",
      " 33  PAY_4_8                30000 non-null  uint8  \n",
      " 34  PAY_5_2                30000 non-null  uint8  \n",
      " 35  PAY_5_4                30000 non-null  uint8  \n",
      " 36  PAY_5_7                30000 non-null  uint8  \n",
      " 37  PAY_6_-1               30000 non-null  uint8  \n",
      " 38  PAY_6_0                30000 non-null  uint8  \n",
      " 39  PAY_6_3                30000 non-null  uint8  \n",
      " 40  PAY_6_6                30000 non-null  uint8  \n",
      " 41  PAY_6_8                30000 non-null  uint8  \n",
      "dtypes: float64(1), uint8(41)\n",
      "memory usage: 1.4 MB\n"
     ]
    }
   ],
   "source": [
    "data3.info()"
   ]
  },
  {
   "cell_type": "code",
   "execution_count": 24,
   "metadata": {},
   "outputs": [],
   "source": [
    "X2 = data3.values\n",
    "Y = credit['default payment next month_not default'].values"
   ]
  },
  {
   "cell_type": "code",
   "execution_count": 25,
   "metadata": {},
   "outputs": [],
   "source": [
    "#train split\n",
    "X_train, X_test, y_train, y_test = train_test_split(X2,Y,test_size=0.25,random_state=123)"
   ]
  },
  {
   "cell_type": "code",
   "execution_count": 26,
   "metadata": {},
   "outputs": [],
   "source": [
    "from sklearn.tree import DecisionTreeClassifier\n",
    "from sklearn.neighbors import KNeighborsClassifier\n",
    "from sklearn.naive_bayes import GaussianNB\n",
    "from sklearn.svm import SVC\n",
    "targetModels = []\n",
    "targetModels.append(('KNN', KNeighborsClassifier()))\n",
    "targetModels.append(('NB', GaussianNB()))\n",
    "targetModels.append(('CART', DecisionTreeClassifier()))\n",
    "targetModels.append(('SVM', SVC()))\n",
    "targetModels.append(('LR', LogisticRegression(solver='lbfgs', max_iter=1000)))"
   ]
  },
  {
   "cell_type": "code",
   "execution_count": 27,
   "metadata": {},
   "outputs": [
    {
     "name": "stdout",
     "output_type": "stream",
     "text": [
      "KNN: 0.797156 (0.007780)\n",
      "NB: 0.787733 (0.004065)\n",
      "CART: 0.776044 (0.008932)\n",
      "SVM: 0.820578 (0.005476)\n",
      "LR: 0.819111 (0.005202)\n"
     ]
    }
   ],
   "source": [
    "from sklearn.model_selection import StratifiedKFold\n",
    "scoring = 'accuracy'\n",
    "resultsA = []\n",
    "namesA = []\n",
    "for name, model in targetModels:\n",
    "    kfold = StratifiedKFold(n_splits=10)\n",
    "    cvResults = cross_val_score(model, X_train, y_train, cv=kfold, scoring=scoring)\n",
    "    resultsA.append(cvResults)\n",
    "    namesA.append(name)\n",
    "    msg = \"%s: %f (%f)\" % (name, cvResults.mean(), cvResults.std())\n",
    "    print(msg)"
   ]
  },
  {
   "cell_type": "code",
   "execution_count": 28,
   "metadata": {},
   "outputs": [
    {
     "data": {
      "image/png": "[encoded data removed]",
      "text/plain": [
       "<Figure size 432x288 with 1 Axes>"
      ]
     },
     "metadata": {
      "needs_background": "light"
     },
     "output_type": "display_data"
    }
   ],
   "source": [
    "fig = plt.figure()\n",
    "fig.suptitle('Algorithm Comparison')\n",
    "ax = fig.add_subplot(111)\n",
    "plt.boxplot(resultsA)\n",
    "ax.set_xticklabels(namesA)\n",
    "plt.show()"
   ]
  },
  {
   "cell_type": "code",
   "execution_count": 29,
   "metadata": {},
   "outputs": [
    {
     "name": "stdout",
     "output_type": "stream",
     "text": [
      "KNN: -0.182885 (0.033970)\n",
      "NB: -0.226794 (0.028580)\n",
      "CART: -0.284834 (0.020207)\n",
      "SVM: -0.035980 (0.020368)\n",
      "LR: -0.043942 (0.020139)\n"
     ]
    }
   ],
   "source": [
    "scoring = 'r2'\n",
    "resultsB = []\n",
    "namesB = []\n",
    "for name, model in targetModels:\n",
    "    kfold = StratifiedKFold(n_splits=10, random_state=123, shuffle=True)\n",
    "    cvResults2 = cross_val_score(model, X_train, y_train, cv=kfold, scoring=scoring)\n",
    "    resultsB.append(cvResults2)\n",
    "    namesB.append(name)\n",
    "    msg = \"%s: %f (%f)\" % (name, cvResults2.mean(), cvResults2.std())\n",
    "    print(msg)"
   ]
  },
  {
   "cell_type": "code",
   "execution_count": 30,
   "metadata": {},
   "outputs": [
    {
     "name": "stdout",
     "output_type": "stream",
     "text": [
      "KNN: -0.172111 (0.045430)\n",
      "NB: -0.226542 (0.023633)\n",
      "CART: -0.301285 (0.052376)\n",
      "SVM: -0.036757 (0.031755)\n",
      "LR: -0.045233 (0.030202)\n"
     ]
    }
   ],
   "source": [
    "scoring = 'r2'\n",
    "resultsC = []\n",
    "namesC = []\n",
    "for name, model in targetModels:\n",
    "    kfold = StratifiedKFold(n_splits=10)\n",
    "    cvResults3 = cross_val_score(model, X_train, y_train, cv=kfold, scoring=scoring)\n",
    "    resultsB.append(cvResults3)\n",
    "    namesB.append(name)\n",
    "    msg = \"%s: %f (%f)\" % (name, cvResults3.mean(), cvResults3.std())\n",
    "    print(msg)"
   ]
  },
  {
   "cell_type": "markdown",
   "metadata": {},
   "source": [
    "# Improve with Ensembles"
   ]
  },
  {
   "cell_type": "code",
   "execution_count": 31,
   "metadata": {},
   "outputs": [
    {
     "name": "stdout",
     "output_type": "stream",
     "text": [
      "0.7938666666666667\n"
     ]
    }
   ],
   "source": [
    "# Random Forest Classification\n",
    "from sklearn.ensemble import RandomForestClassifier\n",
    "treesNum = 100\n",
    "maxFeatures = 10\n",
    "kfold = StratifiedKFold(n_splits=10)\n",
    "model3 = RandomForestClassifier(n_estimators=treesNum, max_features=maxFeatures)\n",
    "results = cross_val_score(model3,X_train, y_train, cv=kfold)\n",
    "print(results.mean())"
   ]
  },
  {
   "cell_type": "code",
   "execution_count": 32,
   "metadata": {},
   "outputs": [
    {
     "name": "stdout",
     "output_type": "stream",
     "text": [
      "0.8200888888888889\n"
     ]
    }
   ],
   "source": [
    "# Stochastic Gradient Boosting Classification\n",
    "from sklearn.ensemble import GradientBoostingClassifier\n",
    "model4 = GradientBoostingClassifier(n_estimators=treesNum, random_state=123)\n",
    "results2 = cross_val_score(model4, X_train, y_train, cv=kfold)\n",
    "print(results2.mean())"
   ]
  },
  {
   "cell_type": "code",
   "execution_count": 33,
   "metadata": {},
   "outputs": [
    {
     "name": "stdout",
     "output_type": "stream",
     "text": [
      "0.7823555555555555\n"
     ]
    }
   ],
   "source": [
    "# Extra Trees Classification\n",
    "from sklearn.ensemble import ExtraTreesClassifier\n",
    "model5 = ExtraTreesClassifier(n_estimators=treesNum, max_features=maxFeatures)\n",
    "results3 = cross_val_score(model5, X_train, y_train, cv=kfold)\n",
    "print(results3.mean())"
   ]
  },
  {
   "cell_type": "code",
   "execution_count": 34,
   "metadata": {},
   "outputs": [
    {
     "name": "stdout",
     "output_type": "stream",
     "text": [
      "0.8192\n"
     ]
    }
   ],
   "source": [
    "# AdaBoosting Classifier\n",
    "from sklearn.ensemble import AdaBoostClassifier\n",
    "model6 = AdaBoostClassifier(n_estimators=treesNum, random_state=123)\n",
    "results4 = cross_val_score(model6, X_train, y_train, cv=kfold)\n",
    "print(results4.mean())"
   ]
  },
  {
   "cell_type": "code",
   "execution_count": 35,
   "metadata": {},
   "outputs": [
    {
     "name": "stdout",
     "output_type": "stream",
     "text": [
      "0.8166666666666667\n"
     ]
    }
   ],
   "source": [
    "# Voting Classifier\n",
    "from sklearn.ensemble import VotingClassifier\n",
    "model7 = VotingClassifier(estimators = targetModels, voting ='hard')\n",
    "results5 = cross_val_score(model7, X_train, y_train, cv=kfold)\n",
    "print(results5.mean())"
   ]
  },
  {
   "cell_type": "code",
   "execution_count": 36,
   "metadata": {},
   "outputs": [
    {
     "name": "stdout",
     "output_type": "stream",
     "text": [
      "0.7919111111111111\n"
     ]
    }
   ],
   "source": [
    "# Bagging meta-estimator\n",
    "# This takes really long ~20 minute test\n",
    "from sklearn.ensemble import BaggingClassifier\n",
    "from sklearn.neighbors import KNeighborsClassifier\n",
    "model8 = BaggingClassifier(KNeighborsClassifier(), n_estimators = treesNum, max_features=maxFeatures)\n",
    "results6 = cross_val_score(model8, X_train, y_train, cv=kfold)\n",
    "print(results6.mean())"
   ]
  },
  {
   "cell_type": "markdown",
   "metadata": {},
   "source": [
    "# Model Tuning"
   ]
  },
  {
   "cell_type": "code",
   "execution_count": 37,
   "metadata": {},
   "outputs": [
    {
     "name": "stdout",
     "output_type": "stream",
     "text": [
      "Best: 0.820267 using {'learning_rate': 0.1, 'n_estimators': 150}\n",
      "0.777378 (0.000133) with: {'learning_rate': 0.001, 'n_estimators': 50}\n",
      "0.777378 (0.000133) with: {'learning_rate': 0.001, 'n_estimators': 100}\n",
      "0.777378 (0.000133) with: {'learning_rate': 0.001, 'n_estimators': 150}\n",
      "0.777378 (0.000133) with: {'learning_rate': 0.001, 'n_estimators': 200}\n",
      "0.777378 (0.000133) with: {'learning_rate': 0.001, 'n_estimators': 250}\n",
      "0.777378 (0.000133) with: {'learning_rate': 0.001, 'n_estimators': 300}\n",
      "0.777378 (0.000133) with: {'learning_rate': 0.001, 'n_estimators': 350}\n",
      "0.777378 (0.000133) with: {'learning_rate': 0.001, 'n_estimators': 400}\n",
      "0.777378 (0.000133) with: {'learning_rate': 0.01, 'n_estimators': 50}\n",
      "0.815244 (0.005913) with: {'learning_rate': 0.01, 'n_estimators': 100}\n",
      "0.817156 (0.006117) with: {'learning_rate': 0.01, 'n_estimators': 150}\n",
      "0.818267 (0.007135) with: {'learning_rate': 0.01, 'n_estimators': 200}\n",
      "0.819156 (0.005560) with: {'learning_rate': 0.01, 'n_estimators': 250}\n",
      "0.819511 (0.004883) with: {'learning_rate': 0.01, 'n_estimators': 300}\n",
      "0.819333 (0.004485) with: {'learning_rate': 0.01, 'n_estimators': 350}\n",
      "0.819556 (0.004844) with: {'learning_rate': 0.01, 'n_estimators': 400}\n",
      "0.819778 (0.004759) with: {'learning_rate': 0.1, 'n_estimators': 50}\n",
      "0.820089 (0.005277) with: {'learning_rate': 0.1, 'n_estimators': 100}\n",
      "0.820267 (0.005415) with: {'learning_rate': 0.1, 'n_estimators': 150}\n",
      "0.820133 (0.005730) with: {'learning_rate': 0.1, 'n_estimators': 200}\n",
      "0.819778 (0.005100) with: {'learning_rate': 0.1, 'n_estimators': 250}\n",
      "0.819378 (0.005126) with: {'learning_rate': 0.1, 'n_estimators': 300}\n",
      "0.819244 (0.005411) with: {'learning_rate': 0.1, 'n_estimators': 350}\n",
      "0.819244 (0.005480) with: {'learning_rate': 0.1, 'n_estimators': 400}\n"
     ]
    }
   ],
   "source": [
    "# Stochastic Gradient Boosting Classification tuning with GridSearchCV\n",
    "from sklearn.model_selection import GridSearchCV\n",
    "param_grid = dict(n_estimators=np.array([50,100,150,200,250,300,350,400]),learning_rate=np.array([0.001, 0.01, 0.1]))\n",
    "model9 = GradientBoostingClassifier(random_state=123)\n",
    "kfold = StratifiedKFold(n_splits=10)\n",
    "scoring = 'accuracy'\n",
    "gbm_cv = GridSearchCV(estimator=model9, param_grid=param_grid, scoring=scoring, cv=kfold)\n",
    "gbmresult = gbm_cv.fit(X_train, y_train)\n",
    "print(\"Best: %f using %s\" % (gbmresult.best_score_, gbmresult.best_params_))\n",
    "means = gbmresult.cv_results_['mean_test_score']\n",
    "stds = gbmresult.cv_results_['std_test_score']\n",
    "params = gbmresult.cv_results_['params']\n",
    "for mean, stdev, param in zip(means, stds, params):\n",
    "    print(\"%f (%f) with: %r\" % (mean, stdev, param))"
   ]
  },
  {
   "cell_type": "code",
   "execution_count": 38,
   "metadata": {},
   "outputs": [
    {
     "name": "stdout",
     "output_type": "stream",
     "text": [
      "[5.86418528e-02 1.95942763e-03 5.39738960e-03 2.01558511e-03\n",
      " 4.61703546e-03 2.16600439e-03 1.59931777e-03 7.37967805e-04\n",
      " 4.12005549e-02 4.88999518e-02 5.19390508e-01 4.36571798e-02\n",
      " 5.52158990e-03 6.74957957e-04 0.00000000e+00 7.02338754e-05\n",
      " 4.87380762e-05 1.81766856e-02 5.39210547e-04 1.32119902e-03\n",
      " 1.42655933e-03 3.08724806e-03 7.48884011e-04 1.12608619e-01\n",
      " 4.28351529e-03 0.00000000e+00 1.75335438e-03 2.30430646e-04\n",
      " 1.61693681e-04 4.07111495e-02 3.43874453e-03 6.22918236e-04\n",
      " 3.55231479e-04 5.67472695e-07 4.75716953e-02 2.11321908e-04\n",
      " 1.86037076e-03 7.37794082e-03 1.06801564e-02 5.02327719e-03\n",
      " 8.79685378e-04 3.31246653e-04]\n"
     ]
    },
    {
     "data": {
      "text/plain": [
       "Text(0, 0.5, 'Feature Importance Score')"
      ]
     },
     "execution_count": 38,
     "metadata": {},
     "output_type": "execute_result"
    },
    {
     "data": {
      "image/png": "[encoded data removed]",
      "text/plain": [
       "<Figure size 432x288 with 1 Axes>"
      ]
     },
     "metadata": {
      "needs_background": "light"
     },
     "output_type": "display_data"
    }
   ],
   "source": [
    "# Feature Importance\n",
    "print(gbm_cv.best_estimator_.feature_importances_)\n",
    "featImp = pd.Series(gbm_cv.best_estimator_.feature_importances_,data3.columns).sort_values(ascending=False)\n",
    "featImp.plot(kind='bar', title='Feature Importances')\n",
    "plt.ylabel('Feature Importance Score')"
   ]
  },
  {
   "cell_type": "code",
   "execution_count": 39,
   "metadata": {},
   "outputs": [
    {
     "name": "stdout",
     "output_type": "stream",
     "text": [
      "Best: 0.819333 using {'C': 11787686.347935867}\n",
      "0.777378 (0.000133) with: {'C': 1e-05}\n",
      "0.777378 (0.000133) with: {'C': 8.483428982440725e-05}\n",
      "0.786667 (0.002689) with: {'C': 0.0007196856730011522}\n",
      "0.811422 (0.003338) with: {'C': 0.006105402296585327}\n",
      "0.818044 (0.004459) with: {'C': 0.05179474679231213}\n",
      "0.819022 (0.004904) with: {'C': 0.4393970560760795}\n",
      "0.819289 (0.004946) with: {'C': 3.727593720314938}\n",
      "0.819200 (0.004848) with: {'C': 31.622776601683793}\n",
      "0.819244 (0.004973) with: {'C': 268.2695795279727}\n",
      "0.819244 (0.004973) with: {'C': 2275.845926074791}\n",
      "0.819289 (0.004990) with: {'C': 19306.977288832535}\n",
      "0.819244 (0.004973) with: {'C': 163789.3706954068}\n",
      "0.819289 (0.004966) with: {'C': 1389495.494373136}\n",
      "0.819333 (0.004982) with: {'C': 11787686.347935867}\n",
      "0.819289 (0.004990) with: {'C': 100000000.0}\n"
     ]
    }
   ],
   "source": [
    "# LogisticRegression Algorithm tuning with GridSearchCV\n",
    "model10 = LogisticRegression(solver='lbfgs', max_iter=1000)\n",
    "c_space = np.logspace(-5, 8, 15)\n",
    "param_grid = {'C': c_space}\n",
    "logreg_cv = GridSearchCV(estimator=model10, param_grid=param_grid, scoring=scoring, cv=kfold)\n",
    "logresult=logreg_cv.fit(X_train, y_train)\n",
    "print(\"Best: %f using %s\" % (logresult.best_score_, logresult.best_params_))\n",
    "means = logresult.cv_results_['mean_test_score']\n",
    "stds = logresult.cv_results_['std_test_score']\n",
    "params = logresult.cv_results_['params']\n",
    "for mean, stdev, param in zip(means, stds, params):\n",
    "    print(\"%f (%f) with: %r\" % (mean, stdev, param))"
   ]
  },
  {
   "cell_type": "code",
   "execution_count": 40,
   "metadata": {},
   "outputs": [
    {
     "name": "stdout",
     "output_type": "stream",
     "text": [
      "Best: 0.809956 using {'min_samples_leaf': 50, 'max_features': 5, 'max_depth': 7, 'criterion': 'entropy'}\n",
      "0.792133 (0.011809) with: {'min_samples_leaf': 50, 'max_features': 3, 'max_depth': 7, 'criterion': 'entropy'}\n",
      "0.794711 (0.010996) with: {'min_samples_leaf': 50, 'max_features': 5, 'max_depth': 3, 'criterion': 'entropy'}\n",
      "0.800667 (0.012489) with: {'min_samples_leaf': 30, 'max_features': 7, 'max_depth': 5, 'criterion': 'entropy'}\n",
      "0.788978 (0.007957) with: {'min_samples_leaf': 50, 'max_features': 5, 'max_depth': 3, 'criterion': 'gini'}\n",
      "0.797689 (0.015166) with: {'min_samples_leaf': 100, 'max_features': 5, 'max_depth': 5, 'criterion': 'entropy'}\n",
      "0.797467 (0.012376) with: {'min_samples_leaf': 100, 'max_features': 7, 'max_depth': 3, 'criterion': 'gini'}\n",
      "0.808133 (0.006143) with: {'min_samples_leaf': 50, 'max_features': 7, 'max_depth': 5, 'criterion': 'gini'}\n",
      "0.804222 (0.010555) with: {'min_samples_leaf': 50, 'max_features': 7, 'max_depth': 5, 'criterion': 'entropy'}\n",
      "0.809956 (0.005308) with: {'min_samples_leaf': 50, 'max_features': 5, 'max_depth': 7, 'criterion': 'entropy'}\n",
      "0.800578 (0.011047) with: {'min_samples_leaf': 100, 'max_features': 5, 'max_depth': 5, 'criterion': 'gini'}\n"
     ]
    }
   ],
   "source": [
    "# DecisionTreeClassifier Algorithm tuning with RandomizedSearchCV\n",
    "from sklearn.model_selection import RandomizedSearchCV\n",
    "kfold = StratifiedKFold(n_splits=10)\n",
    "param_dist = {\"max_depth\": [3,5,7],\n",
    "              \"max_features\": [3,5,7,9],\n",
    "              \"min_samples_leaf\": [30,50,100],\n",
    "              \"criterion\": [\"gini\", \"entropy\"]}\n",
    "model11 = DecisionTreeClassifier()\n",
    "tree_cv =RandomizedSearchCV(model11, param_dist, cv=kfold)\n",
    "# fit\n",
    "treeresult=tree_cv.fit(X_train, y_train)\n",
    "print(\"Best: %f using %s\" % (treeresult.best_score_, treeresult.best_params_))\n",
    "means = treeresult.cv_results_['mean_test_score']\n",
    "stds = treeresult.cv_results_['std_test_score']\n",
    "params = treeresult.cv_results_['params']\n",
    "for mean, stdev, param in zip(means, stds, params):\n",
    "    print(\"%f (%f) with: %r\" % (mean, stdev, param))"
   ]
  },
  {
   "cell_type": "code",
   "execution_count": 41,
   "metadata": {},
   "outputs": [
    {
     "name": "stdout",
     "output_type": "stream",
     "text": [
      "Best: 0.814444 using {'n_neighbors': 19}\n",
      "0.722578 (0.014096) with: {'n_neighbors': 1}\n",
      "0.778133 (0.009614) with: {'n_neighbors': 3}\n",
      "0.797156 (0.007780) with: {'n_neighbors': 5}\n",
      "0.803911 (0.009003) with: {'n_neighbors': 7}\n",
      "0.808800 (0.007731) with: {'n_neighbors': 9}\n",
      "0.810844 (0.006782) with: {'n_neighbors': 11}\n",
      "0.811422 (0.006837) with: {'n_neighbors': 13}\n",
      "0.813111 (0.005803) with: {'n_neighbors': 15}\n",
      "0.813778 (0.005657) with: {'n_neighbors': 17}\n",
      "0.814444 (0.005401) with: {'n_neighbors': 19}\n",
      "0.813733 (0.005173) with: {'n_neighbors': 21}\n"
     ]
    }
   ],
   "source": [
    "# KNN Algorithm tuning with GridSearchCV\n",
    "k_values = np.array([1,3,5,7,9,11,13,15,17,19,21])\n",
    "param_grid = dict(n_neighbors=k_values)\n",
    "model12 = KNeighborsClassifier()\n",
    "kfold = StratifiedKFold(n_splits=10)\n",
    "knn_cv= GridSearchCV(estimator=model12, param_grid=param_grid, scoring=scoring, cv=kfold)\n",
    "#fit\n",
    "knnresult = knn_cv.fit(X_train, y_train)\n",
    "print(\"Best: %f using %s\" % (knnresult.best_score_, knnresult.best_params_))\n",
    "means = knnresult.cv_results_['mean_test_score']\n",
    "stds = knnresult.cv_results_['std_test_score']\n",
    "params = knnresult.cv_results_['params']\n",
    "for mean, stdev, param in zip(means, stds, params):\n",
    "    print(\"%f (%f) with: %r\" % (mean, stdev, param))"
   ]
  },
  {
   "cell_type": "code",
   "execution_count": 42,
   "metadata": {},
   "outputs": [
    {
     "name": "stdout",
     "output_type": "stream",
     "text": [
      "Best: 0.820711 using {'C': 10, 'gamma': 0.1}\n",
      "0.819244 (0.004520) with: {'C': 1, 'gamma': 0.1}\n",
      "0.817511 (0.006352) with: {'C': 1, 'gamma': 0.01}\n",
      "0.820711 (0.005980) with: {'C': 10, 'gamma': 0.1}\n",
      "0.818311 (0.006106) with: {'C': 10, 'gamma': 0.01}\n",
      "0.817689 (0.006534) with: {'C': 100, 'gamma': 0.1}\n",
      "0.818000 (0.005448) with: {'C': 100, 'gamma': 0.01}\n"
     ]
    }
   ],
   "source": [
    "# SVM Algorithm tuning with GridSearchCV\n",
    "\n",
    "# Specify the hyperparameter space\n",
    "param_grid = {'C':[1, 10, 100],\n",
    "              'gamma':[0.1, 0.01]}\n",
    "model13 =SVC()\n",
    "svc_cv= GridSearchCV(estimator=model13, param_grid=param_grid, scoring=scoring, cv=kfold)\n",
    "svcresult = svc_cv.fit(X_train, y_train)\n",
    "print(\"Best: %f using %s\" % (svcresult.best_score_, svcresult.best_params_))\n",
    "means = svcresult.cv_results_['mean_test_score']\n",
    "stds = svcresult.cv_results_['std_test_score']\n",
    "params = svcresult.cv_results_['params']\n",
    "for mean, stdev, param in zip(means, stds, params):\n",
    "    print(\"%f (%f) with: %r\" % (mean, stdev, param))"
   ]
  },
  {
   "cell_type": "code",
   "execution_count": 43,
   "metadata": {},
   "outputs": [
    {
     "name": "stdout",
     "output_type": "stream",
     "text": [
      "Best: 0.795022 using {'max_features': 10, 'n_estimators': 250}\n",
      "0.792533 (0.008645) with: {'max_features': 3, 'n_estimators': 50}\n",
      "0.793778 (0.006937) with: {'max_features': 3, 'n_estimators': 100}\n",
      "0.793156 (0.008225) with: {'max_features': 3, 'n_estimators': 150}\n",
      "0.793467 (0.006471) with: {'max_features': 3, 'n_estimators': 200}\n",
      "0.792444 (0.007402) with: {'max_features': 3, 'n_estimators': 250}\n",
      "0.794222 (0.007708) with: {'max_features': 3, 'n_estimators': 300}\n",
      "0.792622 (0.007619) with: {'max_features': 3, 'n_estimators': 350}\n",
      "0.792489 (0.006582) with: {'max_features': 3, 'n_estimators': 400}\n",
      "0.792178 (0.006289) with: {'max_features': 5, 'n_estimators': 50}\n",
      "0.792044 (0.006889) with: {'max_features': 5, 'n_estimators': 100}\n",
      "0.793467 (0.007418) with: {'max_features': 5, 'n_estimators': 150}\n",
      "0.793244 (0.008088) with: {'max_features': 5, 'n_estimators': 200}\n",
      "0.793600 (0.007266) with: {'max_features': 5, 'n_estimators': 250}\n",
      "0.793556 (0.006920) with: {'max_features': 5, 'n_estimators': 300}\n",
      "0.793156 (0.006791) with: {'max_features': 5, 'n_estimators': 350}\n",
      "0.793511 (0.007914) with: {'max_features': 5, 'n_estimators': 400}\n",
      "0.792444 (0.008270) with: {'max_features': 7, 'n_estimators': 50}\n",
      "0.792667 (0.006955) with: {'max_features': 7, 'n_estimators': 100}\n",
      "0.793244 (0.008467) with: {'max_features': 7, 'n_estimators': 150}\n",
      "0.794844 (0.006758) with: {'max_features': 7, 'n_estimators': 200}\n",
      "0.793822 (0.007118) with: {'max_features': 7, 'n_estimators': 250}\n",
      "0.794311 (0.007116) with: {'max_features': 7, 'n_estimators': 300}\n",
      "0.793956 (0.007033) with: {'max_features': 7, 'n_estimators': 350}\n",
      "0.794400 (0.008079) with: {'max_features': 7, 'n_estimators': 400}\n",
      "0.792089 (0.006945) with: {'max_features': 9, 'n_estimators': 50}\n",
      "0.792889 (0.006767) with: {'max_features': 9, 'n_estimators': 100}\n",
      "0.793733 (0.007585) with: {'max_features': 9, 'n_estimators': 150}\n",
      "0.793822 (0.008043) with: {'max_features': 9, 'n_estimators': 200}\n",
      "0.794089 (0.007506) with: {'max_features': 9, 'n_estimators': 250}\n",
      "0.792844 (0.007939) with: {'max_features': 9, 'n_estimators': 300}\n",
      "0.794756 (0.006950) with: {'max_features': 9, 'n_estimators': 350}\n",
      "0.794578 (0.007700) with: {'max_features': 9, 'n_estimators': 400}\n",
      "0.792711 (0.006333) with: {'max_features': 10, 'n_estimators': 50}\n",
      "0.793378 (0.006118) with: {'max_features': 10, 'n_estimators': 100}\n",
      "0.794489 (0.008303) with: {'max_features': 10, 'n_estimators': 150}\n",
      "0.792978 (0.008599) with: {'max_features': 10, 'n_estimators': 200}\n",
      "0.795022 (0.006827) with: {'max_features': 10, 'n_estimators': 250}\n",
      "0.794667 (0.006459) with: {'max_features': 10, 'n_estimators': 300}\n",
      "0.794444 (0.007561) with: {'max_features': 10, 'n_estimators': 350}\n",
      "0.794578 (0.006922) with: {'max_features': 10, 'n_estimators': 400}\n"
     ]
    }
   ],
   "source": [
    "# Random Forest Classification tuning with GridSearchCV\n",
    "param_grid = dict(n_estimators=np.array([50,100,150,200,250,300,350,400]),max_features=np.array([3,5,7,9,10]))\n",
    "model14 = RandomForestClassifier()\n",
    "rf_cv = GridSearchCV(estimator=model14, param_grid=param_grid, scoring=scoring, cv=kfold)\n",
    "rfresult = rf_cv.fit(X_train, y_train)\n",
    "print(\"Best: %f using %s\" % (rfresult.best_score_, rfresult.best_params_))\n",
    "means = rfresult.cv_results_['mean_test_score']\n",
    "stds = rfresult.cv_results_['std_test_score']\n",
    "params = rfresult.cv_results_['params']\n",
    "for mean, stdev, param in zip(means, stds, params):\n",
    "    print(\"%f (%f) with: %r\" % (mean, stdev, param))"
   ]
  },
  {
   "cell_type": "markdown",
   "metadata": {},
   "source": [
    "# Evaluate Model"
   ]
  },
  {
   "cell_type": "code",
   "execution_count": 44,
   "metadata": {},
   "outputs": [
    {
     "name": "stdout",
     "output_type": "stream",
     "text": [
      "[1 1 0 ... 1 0 1]\n",
      "Accuracy: 0.8216\n",
      "              precision    recall  f1-score   support\n",
      "\n",
      "           0       0.66      0.37      0.47      1627\n",
      "           1       0.84      0.95      0.89      5873\n",
      "\n",
      "    accuracy                           0.82      7500\n",
      "   macro avg       0.75      0.66      0.68      7500\n",
      "weighted avg       0.80      0.82      0.80      7500\n",
      "\n",
      "Tuned Model Parameters: {'learning_rate': 0.1, 'n_estimators': 150}\n"
     ]
    }
   ],
   "source": [
    "# Predict the labels of the test: predict using Gradient Boosting Classification model\n",
    "from sklearn.metrics import classification_report\n",
    "predGBM = gbm_cv.predict(X_test)\n",
    "print(predGBM)\n",
    "\n",
    "print(\"Accuracy: {}\".format(gbm_cv.score(X_test, y_test)))\n",
    "print(classification_report(y_test, predGBM))\n",
    "print(\"Tuned Model Parameters: {}\".format(gbm_cv.best_params_))"
   ]
  },
  {
   "cell_type": "code",
   "execution_count": 45,
   "metadata": {},
   "outputs": [
    {
     "name": "stdout",
     "output_type": "stream",
     "text": [
      "Accuracy: 0.8209333333333333\n",
      "              precision    recall  f1-score   support\n",
      "\n",
      "           0       0.66      0.36      0.47      1627\n",
      "           1       0.84      0.95      0.89      5873\n",
      "\n",
      "    accuracy                           0.82      7500\n",
      "   macro avg       0.75      0.65      0.68      7500\n",
      "weighted avg       0.80      0.82      0.80      7500\n",
      "\n",
      "Tuned Model Parameters: {'C': 11787686.347935867}\n"
     ]
    }
   ],
   "source": [
    "# Predict the labels of the test: predict using LogisticRegression\n",
    "predLR = logreg_cv.predict(X_test)\n",
    "\n",
    "print(\"Accuracy: {}\".format(logreg_cv.score(X_test, y_test)))\n",
    "print(classification_report(y_test, predLR))\n",
    "print(\"Tuned Model Parameters: {}\".format(logreg_cv.best_params_))"
   ]
  },
  {
   "cell_type": "code",
   "execution_count": 46,
   "metadata": {},
   "outputs": [
    {
     "name": "stdout",
     "output_type": "stream",
     "text": [
      "Accuracy: 0.8158666666666666\n",
      "              precision    recall  f1-score   support\n",
      "\n",
      "           0       0.64      0.35      0.45      1627\n",
      "           1       0.84      0.95      0.89      5873\n",
      "\n",
      "    accuracy                           0.82      7500\n",
      "   macro avg       0.74      0.65      0.67      7500\n",
      "weighted avg       0.80      0.82      0.79      7500\n",
      "\n",
      "Tuned Model Parameters: {'n_neighbors': 19}\n"
     ]
    }
   ],
   "source": [
    "# Predict the labels of the test: predict using KNN\n",
    "predKNN = knn_cv.predict(X_test)\n",
    "\n",
    "print(\"Accuracy: {}\".format(knn_cv.score(X_test, y_test)))\n",
    "print(classification_report(y_test, predKNN))\n",
    "print(\"Tuned Model Parameters: {}\".format(knn_cv.best_params_))"
   ]
  },
  {
   "cell_type": "code",
   "execution_count": 47,
   "metadata": {},
   "outputs": [
    {
     "name": "stdout",
     "output_type": "stream",
     "text": [
      "Accuracy: 0.8222666666666667\n",
      "              precision    recall  f1-score   support\n",
      "\n",
      "           0       0.66      0.37      0.47      1627\n",
      "           1       0.84      0.95      0.89      5873\n",
      "\n",
      "    accuracy                           0.82      7500\n",
      "   macro avg       0.75      0.66      0.68      7500\n",
      "weighted avg       0.80      0.82      0.80      7500\n",
      "\n",
      "Tuned Model Parameters: {'C': 10, 'gamma': 0.1}\n"
     ]
    }
   ],
   "source": [
    "# Predict the labels of the test set: y_pred using SVM\n",
    "predSVM = svc_cv.predict(X_test)\n",
    "# Compute and print metrics\n",
    "print(\"Accuracy: {}\".format(svc_cv.score(X_test, y_test)))\n",
    "print(classification_report(y_test, predSVM))\n",
    "print(\"Tuned Model Parameters: {}\".format(svc_cv.best_params_))"
   ]
  },
  {
   "cell_type": "code",
   "execution_count": 48,
   "metadata": {},
   "outputs": [
    {
     "name": "stdout",
     "output_type": "stream",
     "text": [
      "Accuracy: 0.7909333333333334\n",
      "              precision    recall  f1-score   support\n",
      "\n",
      "           0       0.53      0.37      0.43      1627\n",
      "           1       0.84      0.91      0.87      5873\n",
      "\n",
      "    accuracy                           0.79      7500\n",
      "   macro avg       0.68      0.64      0.65      7500\n",
      "weighted avg       0.77      0.79      0.78      7500\n",
      "\n",
      "Tuned Model Parameters: {'max_features': 10, 'n_estimators': 250}\n"
     ]
    }
   ],
   "source": [
    "# Predict the labels of the test set: y_pred using Random Forest\n",
    "predRF = rf_cv.predict(X_test)\n",
    "# Compute and print metrics\n",
    "print(\"Accuracy: {}\".format(rf_cv.score(X_test, y_test)))\n",
    "print(classification_report(y_test, predRF))\n",
    "print(\"Tuned Model Parameters: {}\".format(rf_cv.best_params_))"
   ]
  },
  {
   "cell_type": "markdown",
   "metadata": {},
   "source": [
    "# R2 Scoring Evaluation"
   ]
  },
  {
   "cell_type": "code",
   "execution_count": 49,
   "metadata": {},
   "outputs": [],
   "source": [
    "from math import sqrt"
   ]
  },
  {
   "cell_type": "code",
   "execution_count": 50,
   "metadata": {},
   "outputs": [
    {
     "name": "stdout",
     "output_type": "stream",
     "text": [
      "RMSE is: 0.422\n"
     ]
    }
   ],
   "source": [
    "rmse = sqrt(mean_squared_error(y_test, predGBM))\n",
    "print('RMSE is: %.3f' % (rmse))"
   ]
  },
  {
   "cell_type": "code",
   "execution_count": 52,
   "metadata": {},
   "outputs": [],
   "source": [
    "algo = SVR()\n",
    "model = algo.fit(X_train, y_train)\n",
    "predX1 = model.predict(X_test)"
   ]
  },
  {
   "cell_type": "code",
   "execution_count": 53,
   "metadata": {},
   "outputs": [
    {
     "name": "stdout",
     "output_type": "stream",
     "text": [
      "R2 is: 0.126\n"
     ]
    }
   ],
   "source": [
    "print('R2 is: %.3f' % r2_score(y_test, predX1))"
   ]
  },
  {
   "cell_type": "code",
   "execution_count": 54,
   "metadata": {},
   "outputs": [],
   "source": [
    "X_train1, X_test1, y_train1, y_test1 = train_test_split(X,Y,test_size=0.25,random_state=123)"
   ]
  },
  {
   "cell_type": "code",
   "execution_count": 55,
   "metadata": {},
   "outputs": [],
   "source": [
    "algo1 = LinearRegression()\n",
    "model1 = algo1.fit(X_train1, y_train1)"
   ]
  },
  {
   "cell_type": "code",
   "execution_count": 56,
   "metadata": {},
   "outputs": [],
   "source": [
    "predictions = model1.predict(X_test1)"
   ]
  },
  {
   "cell_type": "code",
   "execution_count": 57,
   "metadata": {},
   "outputs": [
    {
     "name": "stdout",
     "output_type": "stream",
     "text": [
      "R2 is: 0.033\n"
     ]
    }
   ],
   "source": [
    "print('R2 is: %.3f' % r2_score(y_test1, predictions))"
   ]
  },
  {
   "cell_type": "code",
   "execution_count": 58,
   "metadata": {},
   "outputs": [
    {
     "name": "stdout",
     "output_type": "stream",
     "text": [
      "RMSE is: 0.405\n"
     ]
    }
   ],
   "source": [
    "rmse = sqrt(mean_squared_error(y_test1, predictions))\n",
    "print('RMSE is: %.3f' % (rmse))"
   ]
  },
  {
   "cell_type": "code",
   "execution_count": 60,
   "metadata": {},
   "outputs": [],
   "source": [
    "X_train2, X_test2, y_train2, y_test2 = train_test_split(X1,Y,test_size=0.25,random_state=123)"
   ]
  },
  {
   "cell_type": "code",
   "execution_count": 61,
   "metadata": {},
   "outputs": [],
   "source": [
    "algo2 = RandomForestRegressor()\n",
    "model2 = algo2.fit(X_train2, y_train2)\n",
    "pred2 = model2.predict(X_test2)"
   ]
  },
  {
   "cell_type": "code",
   "execution_count": 62,
   "metadata": {},
   "outputs": [
    {
     "name": "stdout",
     "output_type": "stream",
     "text": [
      "R2 is: 0.193\n",
      "RMSE is: 0.370\n"
     ]
    }
   ],
   "source": [
    "print('R2 is: %.3f' % r2_score(y_test2, pred2))\n",
    "rmse1 = sqrt(mean_squared_error(y_test2, pred2))\n",
    "print('RMSE is: %.3f' % (rmse1))"
   ]
  },
  {
   "cell_type": "code",
   "execution_count": 64,
   "metadata": {},
   "outputs": [
    {
     "name": "stdout",
     "output_type": "stream",
     "text": [
      "[0.16650973 0.2154625  0.21739838]\n"
     ]
    }
   ],
   "source": [
    "model = LinearRegression()\n",
    "print(cross_val_score(model, X1, Y, cv=3))"
   ]
  },
  {
   "cell_type": "code",
   "execution_count": 65,
   "metadata": {},
   "outputs": [
    {
     "name": "stdout",
     "output_type": "stream",
     "text": [
      "R2 is: -0.046\n",
      "RMSE is: 0.422\n"
     ]
    }
   ],
   "source": [
    "print('R2 is: %.3f' % r2_score(y_test, predSVM))\n",
    "rmseX = sqrt(mean_squared_error(y_test, predSVM))\n",
    "print('RMSE is: %.3f' % (rmseX))"
   ]
  }
 ],
 "metadata": {
  "kernelspec": {
   "display_name": "Python 3",
   "language": "python",
   "name": "python3"
  },
  "language_info": {
   "codemirror_mode": {
    "name": "ipython",
    "version": 3
   },
   "file_extension": ".py",
   "mimetype": "text/x-python",
   "name": "python",
   "nbconvert_exporter": "python",
   "pygments_lexer": "ipython3",
   "version": "3.8.3"
  }
 },
 "nbformat": 4,
 "nbformat_minor": 4
}
